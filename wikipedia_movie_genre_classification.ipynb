{
  "nbformat": 4,
  "nbformat_minor": 0,
  "metadata": {
    "colab": {
      "name": "wikipedia-movie-genre-classification.ipynb",
      "version": "0.3.2",
      "provenance": [],
      "collapsed_sections": [],
      "include_colab_link": true
    },
    "kernelspec": {
      "name": "python3",
      "display_name": "Python 3"
    }
  },
  "cells": [
    {
      "cell_type": "markdown",
      "metadata": {
        "id": "view-in-github",
        "colab_type": "text"
      },
      "source": [
        "<a href=\"https://colab.research.google.com/github/mannickutd/wikipedia_movie_plots/blob/master/wikipedia_movie_genre_classification.ipynb\" target=\"_parent\"><img src=\"https://colab.research.google.com/assets/colab-badge.svg\" alt=\"Open In Colab\"/></a>"
      ]
    },
    {
      "metadata": {
        "id": "OeTSrTPbb5f3",
        "colab_type": "code",
        "outputId": "aaee64d6-96db-410f-a3a8-d1c91355a488",
        "colab": {
          "base_uri": "https://localhost:8080/",
          "height": 51
        }
      },
      "cell_type": "code",
      "source": [
        "!git clone https://github.com/facebookresearch/fastText.git\n",
        "!cd fastText/\n",
        "!make\n",
        "!cd .."
      ],
      "execution_count": 168,
      "outputs": [
        {
          "output_type": "stream",
          "text": [
            "fatal: destination path 'fastText' already exists and is not an empty directory.\n",
            "make: Nothing to be done for 'opt'.\n"
          ],
          "name": "stdout"
        }
      ]
    },
    {
      "metadata": {
        "id": "zIMDj-YtXPUY",
        "colab_type": "code",
        "colab": {
          "base_uri": "https://localhost:8080/",
          "height": 187
        },
        "outputId": "e8c99346-f8af-4eb6-bd1a-126394dbfd48"
      },
      "cell_type": "code",
      "source": [
        "!pip install pandas\n",
        "!pip install numpy\n",
        "!pip install sklearn\n",
        "import re\n",
        "import pandas\n",
        "import numpy as np\n",
        "import matplotlib.pyplot as plt\n",
        "from sklearn.model_selection import train_test_split"
      ],
      "execution_count": 169,
      "outputs": [
        {
          "output_type": "stream",
          "text": [
            "Requirement already satisfied: pandas in /usr/local/lib/python3.6/dist-packages (0.22.0)\n",
            "Requirement already satisfied: python-dateutil>=2 in /usr/local/lib/python3.6/dist-packages (from pandas) (2.5.3)\n",
            "Requirement already satisfied: numpy>=1.9.0 in /usr/local/lib/python3.6/dist-packages (from pandas) (1.14.6)\n",
            "Requirement already satisfied: pytz>=2011k in /usr/local/lib/python3.6/dist-packages (from pandas) (2018.7)\n",
            "Requirement already satisfied: six>=1.5 in /usr/local/lib/python3.6/dist-packages (from python-dateutil>=2->pandas) (1.11.0)\n",
            "Requirement already satisfied: numpy in /usr/local/lib/python3.6/dist-packages (1.14.6)\n",
            "Requirement already satisfied: sklearn in /usr/local/lib/python3.6/dist-packages (0.0)\n",
            "Requirement already satisfied: scikit-learn in /usr/local/lib/python3.6/dist-packages (from sklearn) (0.20.1)\n",
            "Requirement already satisfied: scipy>=0.13.3 in /usr/local/lib/python3.6/dist-packages (from scikit-learn->sklearn) (1.1.0)\n",
            "Requirement already satisfied: numpy>=1.8.2 in /usr/local/lib/python3.6/dist-packages (from scikit-learn->sklearn) (1.14.6)\n"
          ],
          "name": "stdout"
        }
      ]
    },
    {
      "metadata": {
        "id": "dIP4tda5c6u5",
        "colab_type": "code",
        "outputId": "33574d24-df43-406f-d6cf-6ec756e1bb3f",
        "colab": {
          "base_uri": "https://localhost:8080/",
          "height": 204
        }
      },
      "cell_type": "code",
      "source": [
        "!wget https://s3.eu-west-2.amazonaws.com/wikipedia-movie-plots/wikipedia-movie-plots.zip -O wikipedia-movie-plots.zip"
      ],
      "execution_count": 170,
      "outputs": [
        {
          "output_type": "stream",
          "text": [
            "--2018-12-25 17:20:13--  https://s3.eu-west-2.amazonaws.com/wikipedia-movie-plots/wikipedia-movie-plots.zip\n",
            "Resolving s3.eu-west-2.amazonaws.com (s3.eu-west-2.amazonaws.com)... 52.95.150.44\n",
            "Connecting to s3.eu-west-2.amazonaws.com (s3.eu-west-2.amazonaws.com)|52.95.150.44|:443... connected.\n",
            "HTTP request sent, awaiting response... 200 OK\n",
            "Length: 30978474 (30M) [application/zip]\n",
            "Saving to: ‘wikipedia-movie-plots.zip’\n",
            "\n",
            "wikipedia-movie-plo 100%[===================>]  29.54M  20.8MB/s    in 1.4s    \n",
            "\n",
            "2018-12-25 17:20:14 (20.8 MB/s) - ‘wikipedia-movie-plots.zip’ saved [30978474/30978474]\n",
            "\n"
          ],
          "name": "stdout"
        }
      ]
    },
    {
      "metadata": {
        "id": "doZcgirujLS-",
        "colab_type": "code",
        "outputId": "1a113d93-0033-42b8-a5ec-22ef3679fc20",
        "colab": {
          "base_uri": "https://localhost:8080/",
          "height": 51
        }
      },
      "cell_type": "code",
      "source": [
        "!unzip wikipedia-movie-plots.zip"
      ],
      "execution_count": 171,
      "outputs": [
        {
          "output_type": "stream",
          "text": [
            "Archive:  wikipedia-movie-plots.zip\n",
            "  inflating: wiki_movie_plots_deduped.csv  \n"
          ],
          "name": "stdout"
        }
      ]
    },
    {
      "metadata": {
        "id": "UDI4VodUkqO0",
        "colab_type": "code",
        "colab": {}
      },
      "cell_type": "code",
      "source": [
        "df = pandas.read_csv(\"wiki_movie_plots_deduped.csv\")"
      ],
      "execution_count": 0,
      "outputs": []
    },
    {
      "metadata": {
        "id": "PZOQwAA4m1TD",
        "colab_type": "code",
        "outputId": "660e59fe-80ec-4673-de6a-57feeaa2a8f5",
        "colab": {
          "base_uri": "https://localhost:8080/",
          "height": 68
        }
      },
      "cell_type": "code",
      "source": [
        "df.columns"
      ],
      "execution_count": 173,
      "outputs": [
        {
          "output_type": "execute_result",
          "data": {
            "text/plain": [
              "Index(['Release Year', 'Title', 'Origin/Ethnicity', 'Director', 'Cast',\n",
              "       'Genre', 'Wiki Page', 'Plot'],\n",
              "      dtype='object')"
            ]
          },
          "metadata": {
            "tags": []
          },
          "execution_count": 173
        }
      ]
    },
    {
      "metadata": {
        "id": "6MN61VBKnEcP",
        "colab_type": "code",
        "outputId": "86791090-e49c-4e2f-e916-d837a33f4c9e",
        "colab": {
          "base_uri": "https://localhost:8080/",
          "height": 1071
        }
      },
      "cell_type": "code",
      "source": [
        "df['Genre']"
      ],
      "execution_count": 174,
      "outputs": [
        {
          "output_type": "execute_result",
          "data": {
            "text/plain": [
              "0                           unknown\n",
              "1                           unknown\n",
              "2                           unknown\n",
              "3                           unknown\n",
              "4                           unknown\n",
              "5                           unknown\n",
              "6                           western\n",
              "7                            comedy\n",
              "8                           unknown\n",
              "9                           unknown\n",
              "10                            short\n",
              "11       short action/crime western\n",
              "12                       short film\n",
              "13                     biographical\n",
              "14                           comedy\n",
              "15                           comedy\n",
              "16                            drama\n",
              "17                            drama\n",
              "18                           comedy\n",
              "19                        adventure\n",
              "20                            drama\n",
              "21                          western\n",
              "22                            drama\n",
              "23                            drama\n",
              "24                            drama\n",
              "25                          unknown\n",
              "26                            drama\n",
              "27                          unknown\n",
              "28                          unknown\n",
              "29                           comedy\n",
              "                    ...            \n",
              "34856                         drama\n",
              "34857                         drama\n",
              "34858                         drama\n",
              "34859                        action\n",
              "34860                         drama\n",
              "34861                        action\n",
              "34862                         drama\n",
              "34863                         drama\n",
              "34864                        comedy\n",
              "34865                         drama\n",
              "34866                  comedy-drama\n",
              "34867                        comedy\n",
              "34868                         drama\n",
              "34869                  comedy-drama\n",
              "34870                         drama\n",
              "34871                         drama\n",
              "34872                  comedy-drama\n",
              "34873                         drama\n",
              "34874                         drama\n",
              "34875                         drama\n",
              "34876                         drama\n",
              "34877                    drama film\n",
              "34878                       unknown\n",
              "34879                       unknown\n",
              "34880                       unknown\n",
              "34881                       unknown\n",
              "34882                        comedy\n",
              "34883                        comedy\n",
              "34884               romantic comedy\n",
              "34885                      romantic\n",
              "Name: Genre, Length: 34886, dtype: object"
            ]
          },
          "metadata": {
            "tags": []
          },
          "execution_count": 174
        }
      ]
    },
    {
      "metadata": {
        "id": "3yLc5PTjnykC",
        "colab_type": "code",
        "outputId": "772e8ef8-da67-435b-c39f-71b156d2fd1d",
        "colab": {
          "base_uri": "https://localhost:8080/",
          "height": 34
        }
      },
      "cell_type": "code",
      "source": [
        "df['Count'] = 1\n",
        "df[['Genre','Count']].groupby(['Genre'], as_index=False).count().shape[0]\n",
        "# The number of genres is way to high to provide reliable classification\n",
        "# Lots of duplication of genre categories and overlap, we need a way to simplify the genre categorization"
      ],
      "execution_count": 175,
      "outputs": [
        {
          "output_type": "execute_result",
          "data": {
            "text/plain": [
              "2265"
            ]
          },
          "metadata": {
            "tags": []
          },
          "execution_count": 175
        }
      ]
    },
    {
      "metadata": {
        "id": "Feor1NyBpn2y",
        "colab_type": "code",
        "colab": {}
      },
      "cell_type": "code",
      "source": [
        "# Pulled from kaggle example\n",
        "df['GenreCorrected'] = df['Genre'] \n",
        "df['GenreCorrected'] = df['GenreCorrected'].str.strip()\n",
        "df['GenreCorrected'] = df['GenreCorrected'].str.replace(' - ', '|')\n",
        "df['GenreCorrected'] = df['GenreCorrected'].str.replace(' / ', '|')\n",
        "df['GenreCorrected'] = df['GenreCorrected'].str.replace('/', '|')\n",
        "df['GenreCorrected'] = df['GenreCorrected'].str.replace(' & ', '|')\n",
        "df['GenreCorrected'] = df['GenreCorrected'].str.replace(', ', '|')\n",
        "df['GenreCorrected'] = df['GenreCorrected'].str.replace('; ', '|')\n",
        "df['GenreCorrected'] = df['GenreCorrected'].str.replace('bio-pic', 'biography')\n",
        "df['GenreCorrected'] = df['GenreCorrected'].str.replace('biopic', 'biography')\n",
        "df['GenreCorrected'] = df['GenreCorrected'].str.replace('biographical', 'biography')\n",
        "df['GenreCorrected'] = df['GenreCorrected'].str.replace('biodrama', 'biography')\n",
        "df['GenreCorrected'] = df['GenreCorrected'].str.replace('bio-drama', 'biography')\n",
        "df['GenreCorrected'] = df['GenreCorrected'].str.replace('biographic', 'biography')\n",
        "df['GenreCorrected'] = df['GenreCorrected'].str.replace(' \\(film genre\\)', '')\n",
        "df['GenreCorrected'] = df['GenreCorrected'].str.replace('animated','animation')\n",
        "df['GenreCorrected'] = df['GenreCorrected'].str.replace('anime','animation')\n",
        "df['GenreCorrected'] = df['GenreCorrected'].str.replace('children\\'s','children')\n",
        "df['GenreCorrected'] = df['GenreCorrected'].str.replace('comedey','comedy')\n",
        "df['GenreCorrected'] = df['GenreCorrected'].str.replace('\\[not in citation given\\]','')\n",
        "df['GenreCorrected'] = df['GenreCorrected'].str.replace(' set 4,000 years ago in the canadian arctic','')\n",
        "df['GenreCorrected'] = df['GenreCorrected'].str.replace('historical','history')\n",
        "df['GenreCorrected'] = df['GenreCorrected'].str.replace('romantic','romance')\n",
        "df['GenreCorrected'] = df['GenreCorrected'].str.replace('3-d','animation')\n",
        "df['GenreCorrected'] = df['GenreCorrected'].str.replace('3d','animation')\n",
        "df['GenreCorrected'] = df['GenreCorrected'].str.replace('viacom 18 motion pictures','')\n",
        "df['GenreCorrected'] = df['GenreCorrected'].str.replace('sci-fi','science_fiction')\n",
        "df['GenreCorrected'] = df['GenreCorrected'].str.replace('ttriller','thriller')\n",
        "df['GenreCorrected'] = df['GenreCorrected'].str.replace('.','')\n",
        "df['GenreCorrected'] = df['GenreCorrected'].str.replace('based on radio serial','')\n",
        "df['GenreCorrected'] = df['GenreCorrected'].str.replace(' on the early years of hitler','')\n",
        "df['GenreCorrected'] = df['GenreCorrected'].str.replace('sci fi','science_fiction')\n",
        "df['GenreCorrected'] = df['GenreCorrected'].str.replace('science fiction','science_fiction')\n",
        "df['GenreCorrected'] = df['GenreCorrected'].str.replace(' (30min)','')\n",
        "df['GenreCorrected'] = df['GenreCorrected'].str.replace('16 mm film','short')\n",
        "df['GenreCorrected'] = df['GenreCorrected'].str.replace('\\[140\\]','drama')\n",
        "df['GenreCorrected'] = df['GenreCorrected'].str.replace('\\[144\\]','')\n",
        "df['GenreCorrected'] = df['GenreCorrected'].str.replace(' for ','')\n",
        "df['GenreCorrected'] = df['GenreCorrected'].str.replace('adventures','adventure')\n",
        "df['GenreCorrected'] = df['GenreCorrected'].str.replace('kung fu','martial_arts')\n",
        "df['GenreCorrected'] = df['GenreCorrected'].str.replace('kung-fu','martial_arts')\n",
        "df['GenreCorrected'] = df['GenreCorrected'].str.replace('martial arts','martial_arts')\n",
        "df['GenreCorrected'] = df['GenreCorrected'].str.replace('world war ii','war')\n",
        "df['GenreCorrected'] = df['GenreCorrected'].str.replace('world war i','war')\n",
        "df['GenreCorrected'] = df['GenreCorrected'].str.replace('biography about montreal canadiens star|maurice richard','biography')\n",
        "df['GenreCorrected'] = df['GenreCorrected'].str.replace('bholenath movies|cinekorn entertainment','')\n",
        "df['GenreCorrected'] = df['GenreCorrected'].str.replace(' \\(volleyball\\)','')\n",
        "df['GenreCorrected'] = df['GenreCorrected'].str.replace('spy film','spy')\n",
        "df['GenreCorrected'] = df['GenreCorrected'].str.replace('anthology film','anthology')\n",
        "df['GenreCorrected'] = df['GenreCorrected'].str.replace('biography fim','biography')\n",
        "df['GenreCorrected'] = df['GenreCorrected'].str.replace('avant-garde','avant_garde')\n",
        "df['GenreCorrected'] = df['GenreCorrected'].str.replace('biker film','biker')\n",
        "df['GenreCorrected'] = df['GenreCorrected'].str.replace('buddy cop','buddy')\n",
        "df['GenreCorrected'] = df['GenreCorrected'].str.replace('buddy film','buddy')\n",
        "df['GenreCorrected'] = df['GenreCorrected'].str.replace('comedy 2-reeler','comedy')\n",
        "df['GenreCorrected'] = df['GenreCorrected'].str.replace('films','')\n",
        "df['GenreCorrected'] = df['GenreCorrected'].str.replace('film','')\n",
        "df['GenreCorrected'] = df['GenreCorrected'].str.replace('biography of pioneering american photographer eadweard muybridge','biography')\n",
        "df['GenreCorrected'] = df['GenreCorrected'].str.replace('british-german co-production','')\n",
        "df['GenreCorrected'] = df['GenreCorrected'].str.replace('bruceploitation','martial_arts')\n",
        "df['GenreCorrected'] = df['GenreCorrected'].str.replace('comedy-drama adaptation of the mordecai richler novel','comedy-drama')\n",
        "df['GenreCorrected'] = df['GenreCorrected'].str.replace('movies by the mob\\|knkspl','')\n",
        "df['GenreCorrected'] = df['GenreCorrected'].str.replace('movies','')\n",
        "df['GenreCorrected'] = df['GenreCorrected'].str.replace('movie','')\n",
        "df['GenreCorrected'] = df['GenreCorrected'].str.replace('coming of age','coming_of_age')\n",
        "df['GenreCorrected'] = df['GenreCorrected'].str.replace('coming-of-age','coming_of_age')\n",
        "df['GenreCorrected'] = df['GenreCorrected'].str.replace('drama about child soldiers','drama')\n",
        "df['GenreCorrected'] = df['GenreCorrected'].str.replace('(( based).+)','')\n",
        "df['GenreCorrected'] = df['GenreCorrected'].str.replace('(( co-produced).+)','')\n",
        "df['GenreCorrected'] = df['GenreCorrected'].str.replace('(( adapted).+)','')\n",
        "df['GenreCorrected'] = df['GenreCorrected'].str.replace('(( about).+)','')\n",
        "df['GenreCorrected'] = df['GenreCorrected'].str.replace('musical b','musical')\n",
        "df['GenreCorrected'] = df['GenreCorrected'].str.replace('animationchildren','animation|children')\n",
        "df['GenreCorrected'] = df['GenreCorrected'].str.replace(' period','period')\n",
        "df['GenreCorrected'] = df['GenreCorrected'].str.replace('drama loosely','drama')\n",
        "df['GenreCorrected'] = df['GenreCorrected'].str.replace(' \\(aquatics|swimming\\)','')\n",
        "df['GenreCorrected'] = df['GenreCorrected'].str.replace(' \\(aquatics|swimming\\)','')\n",
        "df['GenreCorrected'] = df['GenreCorrected'].str.replace(\"yogesh dattatraya gosavi's directorial debut \\[9\\]\",'')\n",
        "df['GenreCorrected'] = df['GenreCorrected'].str.replace(\"war-time\",\"war\")\n",
        "df['GenreCorrected'] = df['GenreCorrected'].str.replace(\"wartime\",\"war\")\n",
        "df['GenreCorrected'] = df['GenreCorrected'].str.replace(\"ww1\",\"war\")\n",
        "df['GenreCorrected'] = df['GenreCorrected'].str.replace('unknown','')\n",
        "df['GenreCorrected'] = df['GenreCorrected'].str.replace(\"wwii\",\"war\")\n",
        "df['GenreCorrected'] = df['GenreCorrected'].str.replace('psychological','psycho')\n",
        "df['GenreCorrected'] = df['GenreCorrected'].str.replace('rom-coms','romance')\n",
        "df['GenreCorrected'] = df['GenreCorrected'].str.replace('true crime','crime')\n",
        "df['GenreCorrected'] = df['GenreCorrected'].str.replace('\\|007','')\n",
        "df['GenreCorrected'] = df['GenreCorrected'].str.replace('slice of life','slice_of_life')\n",
        "df['GenreCorrected'] = df['GenreCorrected'].str.replace('computer animation','animation')\n",
        "df['GenreCorrected'] = df['GenreCorrected'].str.replace('gun fu','martial_arts')\n",
        "df['GenreCorrected'] = df['GenreCorrected'].str.replace('j-horror','horror')\n",
        "df['GenreCorrected'] = df['GenreCorrected'].str.replace(' \\(shogi|chess\\)','')\n",
        "df['GenreCorrected'] = df['GenreCorrected'].str.replace('afghan war drama','war drama')\n",
        "df['GenreCorrected'] = df['GenreCorrected'].str.replace('\\|6 separate stories','')\n",
        "df['GenreCorrected'] = df['GenreCorrected'].str.replace(' \\(30min\\)','')\n",
        "df['GenreCorrected'] = df['GenreCorrected'].str.replace(' (road bicycle racing)','')\n",
        "df['GenreCorrected'] = df['GenreCorrected'].str.replace(' v-cinema','')\n",
        "df['GenreCorrected'] = df['GenreCorrected'].str.replace('tv miniseries','tv_miniseries')\n",
        "df['GenreCorrected'] = df['GenreCorrected'].str.replace('\\|docudrama','\\|documentary|drama')\n",
        "df['GenreCorrected'] = df['GenreCorrected'].str.replace(' in animation','|animation')\n",
        "df['GenreCorrected'] = df['GenreCorrected'].str.replace('((adaptation).+)','')\n",
        "df['GenreCorrected'] = df['GenreCorrected'].str.replace('((adaptated).+)','')\n",
        "df['GenreCorrected'] = df['GenreCorrected'].str.replace('((adapted).+)','')\n",
        "df['GenreCorrected'] = df['GenreCorrected'].str.replace('(( on ).+)','')\n",
        "df['GenreCorrected'] = df['GenreCorrected'].str.replace('american football','sports')\n",
        "df['GenreCorrected'] = df['GenreCorrected'].str.replace('dev\\|nusrat jahan','sports')\n",
        "df['GenreCorrected'] = df['GenreCorrected'].str.replace('television miniseries','tv_miniseries')\n",
        "df['GenreCorrected'] = df['GenreCorrected'].str.replace(' \\(artistic\\)','')\n",
        "df['GenreCorrected'] = df['GenreCorrected'].str.replace(' \\|direct-to-dvd','')\n",
        "df['GenreCorrected'] = df['GenreCorrected'].str.replace('history dram','history drama')\n",
        "df['GenreCorrected'] = df['GenreCorrected'].str.replace('martial art','martial_arts')\n",
        "df['GenreCorrected'] = df['GenreCorrected'].str.replace('psycho thriller,','psycho thriller')\n",
        "df['GenreCorrected'] = df['GenreCorrected'].str.replace('\\|1 girl\\|3 suitors','')\n",
        "df['GenreCorrected'] = df['GenreCorrected'].str.replace(' \\(road bicycle racing\\)','')\n",
        "filterE = df['GenreCorrected'] == \"ero\"\n",
        "df.loc[filterE,'GenreCorrected'] = \"adult\"\n",
        "filterE = df['GenreCorrected'] == \"music\"\n",
        "df.loc[filterE,'GenreCorrected']=\"musical\"\n",
        "filterE = df['GenreCorrected'] == \"-\"\n",
        "df.loc[filterE,'GenreCorrected'] = ''\n",
        "filterE = df['GenreCorrected'] == \"comedy–drama\"\n",
        "df.loc[filterE,'GenreCorrected'] = \"comedy|drama\"\n",
        "filterE = df['GenreCorrected'] == \"comedy–horror\"\n",
        "df.loc[filterE,'GenreCorrected'] = \"comedy|horror\"\n",
        "df['GenreCorrected'] = df['GenreCorrected'].str.replace(' ','|')\n",
        "df['GenreCorrected'] = df['GenreCorrected'].str.replace(',','|')\n",
        "df['GenreCorrected'] = df['GenreCorrected'].str.replace('-','')\n",
        "df['GenreCorrected'] = df['GenreCorrected'].str.replace('actionadventure','action|adventure')\n",
        "df['GenreCorrected'] = df['GenreCorrected'].str.replace('actioncomedy','action|comedy')\n",
        "df['GenreCorrected'] = df['GenreCorrected'].str.replace('actiondrama','action|drama')\n",
        "df['GenreCorrected'] = df['GenreCorrected'].str.replace('actionlove','action|love')\n",
        "df['GenreCorrected'] = df['GenreCorrected'].str.replace('actionmasala','action|masala')\n",
        "df['GenreCorrected'] = df['GenreCorrected'].str.replace('actionchildren','action|children')\n",
        "df['GenreCorrected'] = df['GenreCorrected'].str.replace('fantasychildren\\|','fantasy|children')\n",
        "df['GenreCorrected'] = df['GenreCorrected'].str.replace('fantasycomedy','fantasy|comedy')\n",
        "df['GenreCorrected'] = df['GenreCorrected'].str.replace('fantasyperiod','fantasy|period')\n",
        "df['GenreCorrected'] = df['GenreCorrected'].str.replace('cbctv_miniseries','tv_miniseries')\n",
        "df['GenreCorrected'] = df['GenreCorrected'].str.replace('dramacomedy','drama|comedy')\n",
        "df['GenreCorrected'] = df['GenreCorrected'].str.replace('dramacomedysocial','drama|comedy|social')\n",
        "df['GenreCorrected'] = df['GenreCorrected'].str.replace('dramathriller','drama|thriller')\n",
        "df['GenreCorrected'] = df['GenreCorrected'].str.replace('comedydrama','comedy|drama')\n",
        "df['GenreCorrected'] = df['GenreCorrected'].str.replace('dramathriller','drama|thriller')\n",
        "df['GenreCorrected'] = df['GenreCorrected'].str.replace('comedyhorror','comedy|horror')\n",
        "df['GenreCorrected'] = df['GenreCorrected'].str.replace('sciencefiction','science_fiction')\n",
        "df['GenreCorrected'] = df['GenreCorrected'].str.replace('adventurecomedy','adventure|comedy')\n",
        "df['GenreCorrected'] = df['GenreCorrected'].str.replace('animationdrama','animation|drama')\n",
        "df['GenreCorrected'] = df['GenreCorrected'].str.replace('\\|\\|','|')\n",
        "df['GenreCorrected'] = df['GenreCorrected'].str.replace('muslim','religious')\n",
        "df['GenreCorrected'] = df['GenreCorrected'].str.replace('thriler','thriller')\n",
        "df['GenreCorrected'] = df['GenreCorrected'].str.replace('crimethriller','crime|thriller')\n",
        "df['GenreCorrected'] = df['GenreCorrected'].str.replace('fantay','fantasy')\n",
        "df['GenreCorrected'] = df['GenreCorrected'].str.replace('actionthriller','action|thriller')\n",
        "df['GenreCorrected'] = df['GenreCorrected'].str.replace('comedysocial','comedy|social')\n",
        "df['GenreCorrected'] = df['GenreCorrected'].str.replace('martialarts','martial_arts')\n",
        "df['GenreCorrected'] = df['GenreCorrected'].str.replace('\\|\\(children\\|poker\\|karuta\\)','')\n",
        "df['GenreCorrected'] = df['GenreCorrected'].str.replace('epichistory','epic|history')\n",
        "\n",
        "df['GenreCorrected'] = df['GenreCorrected'].str.replace('erotica','adult')\n",
        "df['GenreCorrected'] = df['GenreCorrected'].str.replace('erotic','adult')\n",
        "\n",
        "df['GenreCorrected'] = df['GenreCorrected'].str.replace('((\\|produced\\|).+)','')\n",
        "df['GenreCorrected'] = df['GenreCorrected'].str.replace('chanbara','chambara')\n",
        "df['GenreCorrected'] = df['GenreCorrected'].str.replace('comedythriller','comedy|thriller')\n",
        "df['GenreCorrected'] = df['GenreCorrected'].str.replace('biblical','religious')\n",
        "df['GenreCorrected'] = df['GenreCorrected'].str.replace('biblical','religious')\n",
        "df['GenreCorrected'] = df['GenreCorrected'].str.replace('colour\\|yellow\\|productions\\|eros\\|international','')\n",
        "df['GenreCorrected'] = df['GenreCorrected'].str.replace('\\|directtodvd','')\n",
        "df['GenreCorrected'] = df['GenreCorrected'].str.replace('liveaction','live|action')\n",
        "df['GenreCorrected'] = df['GenreCorrected'].str.replace('melodrama','drama')\n",
        "df['GenreCorrected'] = df['GenreCorrected'].str.replace('superheroes','superheroe')\n",
        "df['GenreCorrected'] = df['GenreCorrected'].str.replace('gangsterthriller','gangster|thriller')\n",
        "\n",
        "df['GenreCorrected'] = df['GenreCorrected'].str.replace('heistcomedy','comedy')\n",
        "df['GenreCorrected'] = df['GenreCorrected'].str.replace('heist','action')\n",
        "df['GenreCorrected'] = df['GenreCorrected'].str.replace('historic','history')\n",
        "df['GenreCorrected'] = df['GenreCorrected'].str.replace('historydisaster','history|disaster')\n",
        "df['GenreCorrected'] = df['GenreCorrected'].str.replace('warcomedy','war|comedy')\n",
        "df['GenreCorrected'] = df['GenreCorrected'].str.replace('westerncomedy','western|comedy')\n",
        "df['GenreCorrected'] = df['GenreCorrected'].str.replace('ancientcostume','costume')\n",
        "df['GenreCorrected'] = df['GenreCorrected'].str.replace('computeranimation','animation')\n",
        "df['GenreCorrected'] = df['GenreCorrected'].str.replace('dramatic','drama')\n",
        "df['GenreCorrected'] = df['GenreCorrected'].str.replace('familya','family')\n",
        "df['GenreCorrected'] = df['GenreCorrected'].str.replace('familya','family')\n",
        "df['GenreCorrected'] = df['GenreCorrected'].str.replace('dramedy','drama|comedy')\n",
        "df['GenreCorrected'] = df['GenreCorrected'].str.replace('dramaa','drama')\n",
        "df['GenreCorrected'] = df['GenreCorrected'].str.replace('famil\\|','family')\n",
        "df['GenreCorrected'] = df['GenreCorrected'].str.replace('superheroe','superhero')\n",
        "df['GenreCorrected'] = df['GenreCorrected'].str.replace('biogtaphy','biography')\n",
        "df['GenreCorrected'] = df['GenreCorrected'].str.replace('devotionalbiography','devotional|biography')\n",
        "df['GenreCorrected'] = df['GenreCorrected'].str.replace('docufiction','documentary|fiction')\n",
        "\n",
        "df['GenreCorrected'] = df['GenreCorrected'].str.replace('familydrama','family|drama')\n",
        "\n",
        "df['GenreCorrected'] = df['GenreCorrected'].str.replace('espionage','spy')\n",
        "df['GenreCorrected'] = df['GenreCorrected'].str.replace('supeheroes','superhero')\n",
        "df['GenreCorrected'] = df['GenreCorrected'].str.replace('romancefiction','romance|fiction')\n",
        "df['GenreCorrected'] = df['GenreCorrected'].str.replace('horrorthriller','horror|thriller')\n",
        "\n",
        "df['GenreCorrected'] = df['GenreCorrected'].str.replace('suspensethriller','suspense|thriller')\n",
        "df['GenreCorrected'] = df['GenreCorrected'].str.replace('musicaliography','musical|biography')\n",
        "df['GenreCorrected'] = df['GenreCorrected'].str.replace('triller','thriller')\n",
        "df['GenreCorrected'] = df['GenreCorrected'].str.replace('\\|\\(fiction\\)','|fiction')\n",
        "\n",
        "df['GenreCorrected'] = df['GenreCorrected'].str.replace('romanceaction','romance|action')\n",
        "df['GenreCorrected'] = df['GenreCorrected'].str.replace('romancecomedy','romance|comedy')\n",
        "df['GenreCorrected'] = df['GenreCorrected'].str.replace('romancehorror','romance|horror')\n",
        "\n",
        "df['GenreCorrected'] = df['GenreCorrected'].str.replace('romcom','romance|comedy')\n",
        "df['GenreCorrected'] = df['GenreCorrected'].str.replace('rom\\|com','romance|comedy')\n",
        "df['GenreCorrected'] = df['GenreCorrected'].str.replace('satirical','satire')\n",
        "\n",
        "df['GenreCorrected'] = df['GenreCorrected'].str.replace('science_fictionchildren','science_fiction|children')\n",
        "df['GenreCorrected'] = df['GenreCorrected'].str.replace('homosexual','adult')\n",
        "df['GenreCorrected'] = df['GenreCorrected'].str.replace('sexual','adult')\n",
        "\n",
        "df['GenreCorrected'] = df['GenreCorrected'].str.replace('mockumentary','documentary')\n",
        "df['GenreCorrected'] = df['GenreCorrected'].str.replace('periodic','period')\n",
        "df['GenreCorrected'] = df['GenreCorrected'].str.replace('romanctic','romantic')\n",
        "df['GenreCorrected'] = df['GenreCorrected'].str.replace('politics','political')\n",
        "df['GenreCorrected'] = df['GenreCorrected'].str.replace('samurai','martial_arts')\n",
        "df['GenreCorrected'] = df['GenreCorrected'].str.replace('tv_miniseries','series')\n",
        "df['GenreCorrected'] = df['GenreCorrected'].str.replace('serial','series')\n",
        "\n",
        "filterE = df['GenreCorrected'] == \"musical–comedy\"\n",
        "df.loc[filterE,'GenreCorrected'] = \"musical|comedy\"\n",
        "\n",
        "filterE = df['GenreCorrected'] == \"roman|porno\"\n",
        "df.loc[filterE,'GenreCorrected'] = \"adult\"\n",
        "\n",
        "filterE = df['GenreCorrected'] == \"action—masala\"\n",
        "df.loc[filterE,'GenreCorrected'] = \"action|masala\"\n",
        "\n",
        "\n",
        "filterE = df['GenreCorrected'] == \"horror–thriller\"\n",
        "df.loc[filterE,'GenreCorrected'] = \"horror|thriller\"\n",
        "\n",
        "df['GenreCorrected'] = df['GenreCorrected'].str.replace('family','children')\n",
        "df['GenreCorrected'] = df['GenreCorrected'].str.replace('martial_arts','action')\n",
        "df['GenreCorrected'] = df['GenreCorrected'].str.replace('horror','thriller')\n",
        "df['GenreCorrected'] = df['GenreCorrected'].str.replace('war','action')\n",
        "df['GenreCorrected'] = df['GenreCorrected'].str.replace('adventure','action')\n",
        "df['GenreCorrected'] = df['GenreCorrected'].str.replace('science_fiction','action')\n",
        "df['GenreCorrected'] = df['GenreCorrected'].str.replace('western','action')\n",
        "df['GenreCorrected'] = df['GenreCorrected'].str.replace('western','action')\n",
        "df['GenreCorrected'] = df['GenreCorrected'].str.replace('noir','black')\n",
        "df['GenreCorrected'] = df['GenreCorrected'].str.replace('spy','action')\n",
        "df['GenreCorrected'] = df['GenreCorrected'].str.replace('superhero','action')\n",
        "df['GenreCorrected'] = df['GenreCorrected'].str.replace('social','')\n",
        "df['GenreCorrected'] = df['GenreCorrected'].str.replace('suspense','action')\n",
        "\n",
        "\n",
        "filterE = df['GenreCorrected'] == \"drama|romance|adult|children\"\n",
        "df.loc[filterE,'GenreCorrected'] = \"drama|romance|adult\"\n",
        "\n",
        "df['GenreCorrected'] = df['GenreCorrected'].str.replace('\\|–\\|','|')\n",
        "df['GenreCorrected'] = df['GenreCorrected'].str.strip(to_strip='\\|')\n",
        "df['GenreCorrected'] = df['GenreCorrected'].str.replace('actionner','action')\n",
        "df['GenreCorrected'] = df['GenreCorrected'].str.strip()"
      ],
      "execution_count": 0,
      "outputs": []
    },
    {
      "metadata": {
        "id": "Pu--IOYc2S9N",
        "colab_type": "code",
        "outputId": "d2449704-87b2-4a99-e2b5-a0518c79e2cc",
        "colab": {
          "base_uri": "https://localhost:8080/",
          "height": 359
        }
      },
      "cell_type": "code",
      "source": [
        "df[['GenreCorrected','Count']].groupby(['GenreCorrected'],as_index=False).count().sort_values(['Count'], ascending=False).head(10)"
      ],
      "execution_count": 177,
      "outputs": [
        {
          "output_type": "execute_result",
          "data": {
            "text/html": [
              "<div>\n",
              "<style scoped>\n",
              "    .dataframe tbody tr th:only-of-type {\n",
              "        vertical-align: middle;\n",
              "    }\n",
              "\n",
              "    .dataframe tbody tr th {\n",
              "        vertical-align: top;\n",
              "    }\n",
              "\n",
              "    .dataframe thead th {\n",
              "        text-align: right;\n",
              "    }\n",
              "</style>\n",
              "<table border=\"1\" class=\"dataframe\">\n",
              "  <thead>\n",
              "    <tr style=\"text-align: right;\">\n",
              "      <th></th>\n",
              "      <th>GenreCorrected</th>\n",
              "      <th>Count</th>\n",
              "    </tr>\n",
              "  </thead>\n",
              "  <tbody>\n",
              "    <tr>\n",
              "      <th>0</th>\n",
              "      <td></td>\n",
              "      <td>6206</td>\n",
              "    </tr>\n",
              "    <tr>\n",
              "      <th>516</th>\n",
              "      <td>drama</td>\n",
              "      <td>6107</td>\n",
              "    </tr>\n",
              "    <tr>\n",
              "      <th>359</th>\n",
              "      <td>comedy</td>\n",
              "      <td>4411</td>\n",
              "    </tr>\n",
              "    <tr>\n",
              "      <th>2</th>\n",
              "      <td>action</td>\n",
              "      <td>3790</td>\n",
              "    </tr>\n",
              "    <tr>\n",
              "      <th>1111</th>\n",
              "      <td>thriller</td>\n",
              "      <td>2163</td>\n",
              "    </tr>\n",
              "    <tr>\n",
              "      <th>964</th>\n",
              "      <td>romance</td>\n",
              "      <td>954</td>\n",
              "    </tr>\n",
              "    <tr>\n",
              "      <th>203</th>\n",
              "      <td>animation</td>\n",
              "      <td>601</td>\n",
              "    </tr>\n",
              "    <tr>\n",
              "      <th>973</th>\n",
              "      <td>romance|comedy</td>\n",
              "      <td>577</td>\n",
              "    </tr>\n",
              "    <tr>\n",
              "      <th>447</th>\n",
              "      <td>crime</td>\n",
              "      <td>573</td>\n",
              "    </tr>\n",
              "    <tr>\n",
              "      <th>387</th>\n",
              "      <td>comedy|drama</td>\n",
              "      <td>560</td>\n",
              "    </tr>\n",
              "  </tbody>\n",
              "</table>\n",
              "</div>"
            ],
            "text/plain": [
              "      GenreCorrected  Count\n",
              "0                      6206\n",
              "516            drama   6107\n",
              "359           comedy   4411\n",
              "2             action   3790\n",
              "1111        thriller   2163\n",
              "964          romance    954\n",
              "203        animation    601\n",
              "973   romance|comedy    577\n",
              "447            crime    573\n",
              "387     comedy|drama    560"
            ]
          },
          "metadata": {
            "tags": []
          },
          "execution_count": 177
        }
      ]
    },
    {
      "metadata": {
        "id": "KUQMLJAb40Nj",
        "colab_type": "code",
        "colab": {}
      },
      "cell_type": "code",
      "source": [
        "df['GenreSplit'] = df['GenreCorrected'].str.split('|')\n",
        "df['GenreSplit'] = df['GenreSplit'].apply(np.sort).apply(np.unique)"
      ],
      "execution_count": 0,
      "outputs": []
    },
    {
      "metadata": {
        "id": "uYJWHKW65Ym8",
        "colab_type": "code",
        "outputId": "c825ffcb-5048-4a61-c95e-cff296695226",
        "colab": {
          "base_uri": "https://localhost:8080/",
          "height": 34
        }
      },
      "cell_type": "code",
      "source": [
        "genres_array = np.array([])\n",
        "\n",
        "for i in range(0, df.shape[0]-1):\n",
        "    genres_array = np.concatenate((genres_array, df['GenreSplit'][i] ))\n",
        "    \n",
        "genres_array"
      ],
      "execution_count": 179,
      "outputs": [
        {
          "output_type": "execute_result",
          "data": {
            "text/plain": [
              "array(['', '', '', ..., 'comedy', 'comedy', 'romance'], dtype='<U32')"
            ]
          },
          "metadata": {
            "tags": []
          },
          "execution_count": 179
        }
      ]
    },
    {
      "metadata": {
        "id": "OJRW8s976K6l",
        "colab_type": "code",
        "colab": {}
      },
      "cell_type": "code",
      "source": [
        "genres = pandas.DataFrame({'Genre': genres_array})"
      ],
      "execution_count": 0,
      "outputs": []
    },
    {
      "metadata": {
        "id": "H6FAmUBl6WAn",
        "colab_type": "code",
        "outputId": "3d22de4a-a21a-49dd-dbd7-f26f3473f81f",
        "colab": {
          "base_uri": "https://localhost:8080/",
          "height": 359
        }
      },
      "cell_type": "code",
      "source": [
        "genres.head(10)"
      ],
      "execution_count": 181,
      "outputs": [
        {
          "output_type": "execute_result",
          "data": {
            "text/html": [
              "<div>\n",
              "<style scoped>\n",
              "    .dataframe tbody tr th:only-of-type {\n",
              "        vertical-align: middle;\n",
              "    }\n",
              "\n",
              "    .dataframe tbody tr th {\n",
              "        vertical-align: top;\n",
              "    }\n",
              "\n",
              "    .dataframe thead th {\n",
              "        text-align: right;\n",
              "    }\n",
              "</style>\n",
              "<table border=\"1\" class=\"dataframe\">\n",
              "  <thead>\n",
              "    <tr style=\"text-align: right;\">\n",
              "      <th></th>\n",
              "      <th>Genre</th>\n",
              "    </tr>\n",
              "  </thead>\n",
              "  <tbody>\n",
              "    <tr>\n",
              "      <th>0</th>\n",
              "      <td></td>\n",
              "    </tr>\n",
              "    <tr>\n",
              "      <th>1</th>\n",
              "      <td></td>\n",
              "    </tr>\n",
              "    <tr>\n",
              "      <th>2</th>\n",
              "      <td></td>\n",
              "    </tr>\n",
              "    <tr>\n",
              "      <th>3</th>\n",
              "      <td></td>\n",
              "    </tr>\n",
              "    <tr>\n",
              "      <th>4</th>\n",
              "      <td></td>\n",
              "    </tr>\n",
              "    <tr>\n",
              "      <th>5</th>\n",
              "      <td></td>\n",
              "    </tr>\n",
              "    <tr>\n",
              "      <th>6</th>\n",
              "      <td>action</td>\n",
              "    </tr>\n",
              "    <tr>\n",
              "      <th>7</th>\n",
              "      <td>comedy</td>\n",
              "    </tr>\n",
              "    <tr>\n",
              "      <th>8</th>\n",
              "      <td></td>\n",
              "    </tr>\n",
              "    <tr>\n",
              "      <th>9</th>\n",
              "      <td></td>\n",
              "    </tr>\n",
              "  </tbody>\n",
              "</table>\n",
              "</div>"
            ],
            "text/plain": [
              "    Genre\n",
              "0        \n",
              "1        \n",
              "2        \n",
              "3        \n",
              "4        \n",
              "5        \n",
              "6  action\n",
              "7  comedy\n",
              "8        \n",
              "9        "
            ]
          },
          "metadata": {
            "tags": []
          },
          "execution_count": 181
        }
      ]
    },
    {
      "metadata": {
        "id": "nrGX2zws6b3x",
        "colab_type": "code",
        "outputId": "a294654f-97fd-403e-9cd6-56804b63b8c3",
        "colab": {
          "base_uri": "https://localhost:8080/",
          "height": 359
        }
      },
      "cell_type": "code",
      "source": [
        "genres['Count'] = 1\n",
        "genres[['Genre','Count']].groupby(['Genre'], as_index=False).sum().sort_values(['Count'], ascending=False).head(10)"
      ],
      "execution_count": 182,
      "outputs": [
        {
          "output_type": "execute_result",
          "data": {
            "text/html": [
              "<div>\n",
              "<style scoped>\n",
              "    .dataframe tbody tr th:only-of-type {\n",
              "        vertical-align: middle;\n",
              "    }\n",
              "\n",
              "    .dataframe tbody tr th {\n",
              "        vertical-align: top;\n",
              "    }\n",
              "\n",
              "    .dataframe thead th {\n",
              "        text-align: right;\n",
              "    }\n",
              "</style>\n",
              "<table border=\"1\" class=\"dataframe\">\n",
              "  <thead>\n",
              "    <tr style=\"text-align: right;\">\n",
              "      <th></th>\n",
              "      <th>Genre</th>\n",
              "      <th>Count</th>\n",
              "    </tr>\n",
              "  </thead>\n",
              "  <tbody>\n",
              "    <tr>\n",
              "      <th>116</th>\n",
              "      <td>drama</td>\n",
              "      <td>9487</td>\n",
              "    </tr>\n",
              "    <tr>\n",
              "      <th>85</th>\n",
              "      <td>comedy</td>\n",
              "      <td>7320</td>\n",
              "    </tr>\n",
              "    <tr>\n",
              "      <th>0</th>\n",
              "      <td></td>\n",
              "      <td>6222</td>\n",
              "    </tr>\n",
              "    <tr>\n",
              "      <th>4</th>\n",
              "      <td>action</td>\n",
              "      <td>5952</td>\n",
              "    </tr>\n",
              "    <tr>\n",
              "      <th>426</th>\n",
              "      <td>thriller</td>\n",
              "      <td>3291</td>\n",
              "    </tr>\n",
              "    <tr>\n",
              "      <th>337</th>\n",
              "      <td>romance</td>\n",
              "      <td>2639</td>\n",
              "    </tr>\n",
              "    <tr>\n",
              "      <th>94</th>\n",
              "      <td>crime</td>\n",
              "      <td>1607</td>\n",
              "    </tr>\n",
              "    <tr>\n",
              "      <th>244</th>\n",
              "      <td>musical</td>\n",
              "      <td>951</td>\n",
              "    </tr>\n",
              "    <tr>\n",
              "      <th>16</th>\n",
              "      <td>animation</td>\n",
              "      <td>914</td>\n",
              "    </tr>\n",
              "    <tr>\n",
              "      <th>73</th>\n",
              "      <td>children</td>\n",
              "      <td>684</td>\n",
              "    </tr>\n",
              "  </tbody>\n",
              "</table>\n",
              "</div>"
            ],
            "text/plain": [
              "         Genre  Count\n",
              "116      drama   9487\n",
              "85      comedy   7320\n",
              "0                6222\n",
              "4       action   5952\n",
              "426   thriller   3291\n",
              "337    romance   2639\n",
              "94       crime   1607\n",
              "244    musical    951\n",
              "16   animation    914\n",
              "73    children    684"
            ]
          },
          "metadata": {
            "tags": []
          },
          "execution_count": 182
        }
      ]
    },
    {
      "metadata": {
        "id": "cnSz7MLZ6tHC",
        "colab_type": "code",
        "colab": {}
      },
      "cell_type": "code",
      "source": [
        "genres = genres[['Genre','Count']].groupby(['Genre'], as_index=False).sum().sort_values(['Count'], ascending=False)"
      ],
      "execution_count": 0,
      "outputs": []
    },
    {
      "metadata": {
        "id": "0EV3kiSc7Rdn",
        "colab_type": "code",
        "outputId": "db14342d-2ea4-4b87-84da-57053c78d42f",
        "colab": {
          "base_uri": "https://localhost:8080/",
          "height": 824
        }
      },
      "cell_type": "code",
      "source": [
        "genres = genres[genres['Genre'] != '']\n",
        "genres.head(25)"
      ],
      "execution_count": 184,
      "outputs": [
        {
          "output_type": "execute_result",
          "data": {
            "text/html": [
              "<div>\n",
              "<style scoped>\n",
              "    .dataframe tbody tr th:only-of-type {\n",
              "        vertical-align: middle;\n",
              "    }\n",
              "\n",
              "    .dataframe tbody tr th {\n",
              "        vertical-align: top;\n",
              "    }\n",
              "\n",
              "    .dataframe thead th {\n",
              "        text-align: right;\n",
              "    }\n",
              "</style>\n",
              "<table border=\"1\" class=\"dataframe\">\n",
              "  <thead>\n",
              "    <tr style=\"text-align: right;\">\n",
              "      <th></th>\n",
              "      <th>Genre</th>\n",
              "      <th>Count</th>\n",
              "    </tr>\n",
              "  </thead>\n",
              "  <tbody>\n",
              "    <tr>\n",
              "      <th>116</th>\n",
              "      <td>drama</td>\n",
              "      <td>9487</td>\n",
              "    </tr>\n",
              "    <tr>\n",
              "      <th>85</th>\n",
              "      <td>comedy</td>\n",
              "      <td>7320</td>\n",
              "    </tr>\n",
              "    <tr>\n",
              "      <th>4</th>\n",
              "      <td>action</td>\n",
              "      <td>5952</td>\n",
              "    </tr>\n",
              "    <tr>\n",
              "      <th>426</th>\n",
              "      <td>thriller</td>\n",
              "      <td>3291</td>\n",
              "    </tr>\n",
              "    <tr>\n",
              "      <th>337</th>\n",
              "      <td>romance</td>\n",
              "      <td>2639</td>\n",
              "    </tr>\n",
              "    <tr>\n",
              "      <th>94</th>\n",
              "      <td>crime</td>\n",
              "      <td>1607</td>\n",
              "    </tr>\n",
              "    <tr>\n",
              "      <th>244</th>\n",
              "      <td>musical</td>\n",
              "      <td>951</td>\n",
              "    </tr>\n",
              "    <tr>\n",
              "      <th>16</th>\n",
              "      <td>animation</td>\n",
              "      <td>914</td>\n",
              "    </tr>\n",
              "    <tr>\n",
              "      <th>73</th>\n",
              "      <td>children</td>\n",
              "      <td>684</td>\n",
              "    </tr>\n",
              "    <tr>\n",
              "      <th>131</th>\n",
              "      <td>fantasy</td>\n",
              "      <td>542</td>\n",
              "    </tr>\n",
              "    <tr>\n",
              "      <th>245</th>\n",
              "      <td>mystery</td>\n",
              "      <td>481</td>\n",
              "    </tr>\n",
              "    <tr>\n",
              "      <th>46</th>\n",
              "      <td>biography</td>\n",
              "      <td>463</td>\n",
              "    </tr>\n",
              "    <tr>\n",
              "      <th>47</th>\n",
              "      <td>black</td>\n",
              "      <td>412</td>\n",
              "    </tr>\n",
              "    <tr>\n",
              "      <th>149</th>\n",
              "      <td>history</td>\n",
              "      <td>256</td>\n",
              "    </tr>\n",
              "    <tr>\n",
              "      <th>368</th>\n",
              "      <td>short</td>\n",
              "      <td>241</td>\n",
              "    </tr>\n",
              "    <tr>\n",
              "      <th>114</th>\n",
              "      <td>documentary</td>\n",
              "      <td>131</td>\n",
              "    </tr>\n",
              "    <tr>\n",
              "      <th>391</th>\n",
              "      <td>sports</td>\n",
              "      <td>121</td>\n",
              "    </tr>\n",
              "    <tr>\n",
              "      <th>357</th>\n",
              "      <td>series</td>\n",
              "      <td>86</td>\n",
              "    </tr>\n",
              "    <tr>\n",
              "      <th>6</th>\n",
              "      <td>adult</td>\n",
              "      <td>71</td>\n",
              "    </tr>\n",
              "    <tr>\n",
              "      <th>288</th>\n",
              "      <td>political</td>\n",
              "      <td>60</td>\n",
              "    </tr>\n",
              "    <tr>\n",
              "      <th>90</th>\n",
              "      <td>costume</td>\n",
              "      <td>49</td>\n",
              "    </tr>\n",
              "    <tr>\n",
              "      <th>429</th>\n",
              "      <td>tokusatsu</td>\n",
              "      <td>43</td>\n",
              "    </tr>\n",
              "    <tr>\n",
              "      <th>411</th>\n",
              "      <td>supernatural</td>\n",
              "      <td>41</td>\n",
              "    </tr>\n",
              "    <tr>\n",
              "      <th>223</th>\n",
              "      <td>masala</td>\n",
              "      <td>41</td>\n",
              "    </tr>\n",
              "    <tr>\n",
              "      <th>307</th>\n",
              "      <td>psycho</td>\n",
              "      <td>39</td>\n",
              "    </tr>\n",
              "  </tbody>\n",
              "</table>\n",
              "</div>"
            ],
            "text/plain": [
              "            Genre  Count\n",
              "116         drama   9487\n",
              "85         comedy   7320\n",
              "4          action   5952\n",
              "426      thriller   3291\n",
              "337       romance   2639\n",
              "94          crime   1607\n",
              "244       musical    951\n",
              "16      animation    914\n",
              "73       children    684\n",
              "131       fantasy    542\n",
              "245       mystery    481\n",
              "46      biography    463\n",
              "47          black    412\n",
              "149       history    256\n",
              "368         short    241\n",
              "114   documentary    131\n",
              "391        sports    121\n",
              "357        series     86\n",
              "6           adult     71\n",
              "288     political     60\n",
              "90        costume     49\n",
              "429     tokusatsu     43\n",
              "411  supernatural     41\n",
              "223        masala     41\n",
              "307        psycho     39"
            ]
          },
          "metadata": {
            "tags": []
          },
          "execution_count": 184
        }
      ]
    },
    {
      "metadata": {
        "id": "j0uA8rXM7UsV",
        "colab_type": "code",
        "colab": {}
      },
      "cell_type": "code",
      "source": [
        "TotalCountGenres = sum(genres['Count'])"
      ],
      "execution_count": 0,
      "outputs": []
    },
    {
      "metadata": {
        "id": "njdN0Ddr7oLl",
        "colab_type": "code",
        "colab": {}
      },
      "cell_type": "code",
      "source": [
        "genres['Frequency'] = genres['Count'] / TotalCountGenres"
      ],
      "execution_count": 0,
      "outputs": []
    },
    {
      "metadata": {
        "id": "-WwTqF0J7rOu",
        "colab_type": "code",
        "colab": {}
      },
      "cell_type": "code",
      "source": [
        "genres['CumulativeFrequency'] = genres['Frequency'].cumsum()"
      ],
      "execution_count": 0,
      "outputs": []
    },
    {
      "metadata": {
        "id": "PXFDDCvD74Gd",
        "colab_type": "code",
        "outputId": "d9c2bf36-d68c-4d8c-fe41-1ba261ab3275",
        "colab": {
          "base_uri": "https://localhost:8080/",
          "height": 398
        }
      },
      "cell_type": "code",
      "source": [
        "genres[genres['CumulativeFrequency']<=.957][['Genre','Count']].plot(x='Genre', y='Count', kind='bar', legend=False, grid=True, figsize=(8, 5))\n",
        "plt.title(\"Number of movies per genre\")\n",
        "plt.ylabel('# of Occurrences', fontsize=12)\n",
        "plt.xlabel('Movie genres', fontsize=12)\n",
        "plt.show()"
      ],
      "execution_count": 188,
      "outputs": [
        {
          "output_type": "display_data",
          "data": {
            "image/png": "[encoded data removed]",
            "text/plain": [
              "<matplotlib.figure.Figure at 0x7f257dbfde80>"
            ]
          },
          "metadata": {
            "tags": []
          }
        }
      ]
    },
    {
      "metadata": {
        "id": "ZENfAnPd8OrF",
        "colab_type": "code",
        "colab": {
          "base_uri": "https://localhost:8080/",
          "height": 34
        },
        "outputId": "4e5c4a56-de03-447a-95a7-056b44b547d2"
      },
      "cell_type": "code",
      "source": [
        "genres.shape"
      ],
      "execution_count": 189,
      "outputs": [
        {
          "output_type": "execute_result",
          "data": {
            "text/plain": [
              "(459, 4)"
            ]
          },
          "metadata": {
            "tags": []
          },
          "execution_count": 189
        }
      ]
    },
    {
      "metadata": {
        "id": "RZi74CNhxp6r",
        "colab_type": "code",
        "colab": {
          "base_uri": "https://localhost:8080/",
          "height": 34
        },
        "outputId": "6e257c21-75a3-4501-975b-50b5a98a74b2"
      },
      "cell_type": "code",
      "source": [
        "genres.columns"
      ],
      "execution_count": 190,
      "outputs": [
        {
          "output_type": "execute_result",
          "data": {
            "text/plain": [
              "Index(['Genre', 'Count', 'Frequency', 'CumulativeFrequency'], dtype='object')"
            ]
          },
          "metadata": {
            "tags": []
          },
          "execution_count": 190
        }
      ]
    },
    {
      "metadata": {
        "id": "6nCkjtzCygle",
        "colab_type": "code",
        "colab": {
          "base_uri": "https://localhost:8080/",
          "height": 204
        },
        "outputId": "176dc0ce-bbca-4eed-9498-014b27e9e85a"
      },
      "cell_type": "code",
      "source": [
        "genres.head()"
      ],
      "execution_count": 191,
      "outputs": [
        {
          "output_type": "execute_result",
          "data": {
            "text/html": [
              "<div>\n",
              "<style scoped>\n",
              "    .dataframe tbody tr th:only-of-type {\n",
              "        vertical-align: middle;\n",
              "    }\n",
              "\n",
              "    .dataframe tbody tr th {\n",
              "        vertical-align: top;\n",
              "    }\n",
              "\n",
              "    .dataframe thead th {\n",
              "        text-align: right;\n",
              "    }\n",
              "</style>\n",
              "<table border=\"1\" class=\"dataframe\">\n",
              "  <thead>\n",
              "    <tr style=\"text-align: right;\">\n",
              "      <th></th>\n",
              "      <th>Genre</th>\n",
              "      <th>Count</th>\n",
              "      <th>Frequency</th>\n",
              "      <th>CumulativeFrequency</th>\n",
              "    </tr>\n",
              "  </thead>\n",
              "  <tbody>\n",
              "    <tr>\n",
              "      <th>116</th>\n",
              "      <td>drama</td>\n",
              "      <td>9487</td>\n",
              "      <td>0.254200</td>\n",
              "      <td>0.254200</td>\n",
              "    </tr>\n",
              "    <tr>\n",
              "      <th>85</th>\n",
              "      <td>comedy</td>\n",
              "      <td>7320</td>\n",
              "      <td>0.196136</td>\n",
              "      <td>0.450336</td>\n",
              "    </tr>\n",
              "    <tr>\n",
              "      <th>4</th>\n",
              "      <td>action</td>\n",
              "      <td>5952</td>\n",
              "      <td>0.159481</td>\n",
              "      <td>0.609818</td>\n",
              "    </tr>\n",
              "    <tr>\n",
              "      <th>426</th>\n",
              "      <td>thriller</td>\n",
              "      <td>3291</td>\n",
              "      <td>0.088181</td>\n",
              "      <td>0.697998</td>\n",
              "    </tr>\n",
              "    <tr>\n",
              "      <th>337</th>\n",
              "      <td>romance</td>\n",
              "      <td>2639</td>\n",
              "      <td>0.070711</td>\n",
              "      <td>0.768709</td>\n",
              "    </tr>\n",
              "  </tbody>\n",
              "</table>\n",
              "</div>"
            ],
            "text/plain": [
              "        Genre  Count  Frequency  CumulativeFrequency\n",
              "116     drama   9487   0.254200             0.254200\n",
              "85     comedy   7320   0.196136             0.450336\n",
              "4      action   5952   0.159481             0.609818\n",
              "426  thriller   3291   0.088181             0.697998\n",
              "337   romance   2639   0.070711             0.768709"
            ]
          },
          "metadata": {
            "tags": []
          },
          "execution_count": 191
        }
      ]
    },
    {
      "metadata": {
        "id": "WAzpxQ0fyi_E",
        "colab_type": "code",
        "colab": {
          "base_uri": "https://localhost:8080/",
          "height": 34
        },
        "outputId": "cdb61d45-e301-4542-a7ea-fcabde1744ec"
      },
      "cell_type": "code",
      "source": [
        "df.shape"
      ],
      "execution_count": 192,
      "outputs": [
        {
          "output_type": "execute_result",
          "data": {
            "text/plain": [
              "(34886, 11)"
            ]
          },
          "metadata": {
            "tags": []
          },
          "execution_count": 192
        }
      ]
    },
    {
      "metadata": {
        "id": "CH9Cl3vC18ib",
        "colab_type": "code",
        "colab": {
          "base_uri": "https://localhost:8080/",
          "height": 68
        },
        "outputId": "d03853a9-17a6-4743-f448-057e5c0fe665"
      },
      "cell_type": "code",
      "source": [
        "df.columns"
      ],
      "execution_count": 193,
      "outputs": [
        {
          "output_type": "execute_result",
          "data": {
            "text/plain": [
              "Index(['Release Year', 'Title', 'Origin/Ethnicity', 'Director', 'Cast',\n",
              "       'Genre', 'Wiki Page', 'Plot', 'Count', 'GenreCorrected', 'GenreSplit'],\n",
              "      dtype='object')"
            ]
          },
          "metadata": {
            "tags": []
          },
          "execution_count": 193
        }
      ]
    },
    {
      "metadata": {
        "id": "zQ5RBgA01-IB",
        "colab_type": "code",
        "colab": {
          "base_uri": "https://localhost:8080/",
          "height": 7531
        },
        "outputId": "fbe62f1b-a33f-495c-f5d3-36e973beea11"
      },
      "cell_type": "code",
      "source": [
        "df.head"
      ],
      "execution_count": 194,
      "outputs": [
        {
          "output_type": "execute_result",
          "data": {
            "text/plain": [
              "<bound method NDFrame.head of        Release Year                                              Title  \\\n",
              "0              1901                             Kansas Saloon Smashers   \n",
              "1              1901                      Love by the Light of the Moon   \n",
              "2              1901                            The Martyred Presidents   \n",
              "3              1901                   Terrible Teddy, the Grizzly King   \n",
              "4              1902                             Jack and the Beanstalk   \n",
              "5              1903                                Alice in Wonderland   \n",
              "6              1903                            The Great Train Robbery   \n",
              "7              1904                                    The Suburbanite   \n",
              "8              1905                           The Little Train Robbery   \n",
              "9              1905                         The Night Before Christmas   \n",
              "10             1906                           Dream of a Rarebit Fiend   \n",
              "11             1906  From Leadville to Aspen: A Hold-Up in the Rockies   \n",
              "12             1906                                Kathleen Mavourneen   \n",
              "13             1907                                       Daniel Boone   \n",
              "14             1907                    How Brown Saw the Baseball Game   \n",
              "15             1907                                       Laughing Gas   \n",
              "16             1908                           The Adventures of Dollie   \n",
              "17             1908                                    The Black Viper   \n",
              "18             1908                             A Calamitous Elopement   \n",
              "19             1908                               The Call of the Wild   \n",
              "20             1908                                  A Christmas Carol   \n",
              "21             1908                              The Fight for Freedom   \n",
              "22             1909                                       At the Altar   \n",
              "23             1909                           A Drunkard's Reformation   \n",
              "24             1909                                   The Golden Louis   \n",
              "25             1909                               The Lure of the Gown   \n",
              "26             1910                                   An Arcadian Maid   \n",
              "27             1910                                  A Christmas Carol   \n",
              "28             1910                                       Frankenstein   \n",
              "29             1910                        Hemlock Hoax, the Detective   \n",
              "...             ...                                                ...   \n",
              "34856          2010                           A Step into the Darkness   \n",
              "34857          2010                                       How Are You?   \n",
              "34858          2010                                       The Crossing   \n",
              "34859          2010                          Five Minarets in New York   \n",
              "34860          2010                                             Jackal   \n",
              "34861          2010                               Secret of the Sultan   \n",
              "34862          2010                                       Other Angels   \n",
              "34863          2010                                          Hayde Bre   \n",
              "34864          2011                                     Eyyvah Eyvah 2   \n",
              "34865          2011                                           Free Man   \n",
              "34866          2011                                              Paper   \n",
              "34867          2011                                          Scapegoat   \n",
              "34868          2011                            Love Likes Coincidences   \n",
              "34869          2011                                     Signora Enrica   \n",
              "34870          2011                                              Press   \n",
              "34871          2011                                     Merry-Go-Round   \n",
              "34872          2011                                             Zephyr   \n",
              "34873          2011                                         Toll Booth   \n",
              "34874          2011                                      White as Snow   \n",
              "34875          2011                       Once Upon a Time in Anatolia   \n",
              "34876          2013                                              Selam   \n",
              "34877          2013                                    Particle (film)   \n",
              "34878          2014                                   Mandıra Filozofu   \n",
              "34879          2014                                       Winter Sleep   \n",
              "34880          2014                                              Sivas   \n",
              "34881          2014                                  The Water Diviner   \n",
              "34882          2017                                 Çalgı Çengi İkimiz   \n",
              "34883          2017                                       Olanlar Oldu   \n",
              "34884          2017                                   Non-Transferable   \n",
              "34885          2017                                 İstanbul Kırmızısı   \n",
              "\n",
              "      Origin/Ethnicity                                  Director  \\\n",
              "0             American                                   Unknown   \n",
              "1             American                                   Unknown   \n",
              "2             American                                   Unknown   \n",
              "3             American                                   Unknown   \n",
              "4             American        George S. Fleming, Edwin S. Porter   \n",
              "5             American                            Cecil Hepworth   \n",
              "6             American                           Edwin S. Porter   \n",
              "7             American                        Wallace McCutcheon   \n",
              "8             American                      Edwin Stanton Porter   \n",
              "9             American                      Edwin Stanton Porter   \n",
              "10            American    Wallace McCutcheon and Edwin S. Porter   \n",
              "11            American  Francis J. Marion and Wallace McCutcheon   \n",
              "12            American                           Edwin S. Porter   \n",
              "13            American   Wallace McCutcheon and Ediwin S. Porter   \n",
              "14            American                                   Unknown   \n",
              "15            American                      Edwin Stanton Porter   \n",
              "16            American                            D. W. Griffith   \n",
              "17            American                            D. W. Griffith   \n",
              "18            American                             D.W. Griffith   \n",
              "19            American                            D. W. Griffith   \n",
              "20            American                                   Unknown   \n",
              "21            American                            D. W. Griffith   \n",
              "22            American                            D. W. Griffith   \n",
              "23            American                            D. W. Griffith   \n",
              "24            American                            D. W. Griffith   \n",
              "25            American                             D.W. Griffith   \n",
              "26            American                             D.W. Griffith   \n",
              "27            American                          J. Searle Dawley   \n",
              "28            American                          J. Searle Dawley   \n",
              "29            American                                   Unknown   \n",
              "...                ...                                       ...   \n",
              "34856          Turkish                                 Atıl İnaç   \n",
              "34857          Turkish                          Özlem Akovalıgil   \n",
              "34858          Turkish                          Selim Demirdelen   \n",
              "34859          Turkish                         Mahsun Kırmızıgül   \n",
              "34860          Turkish                               Erhan Kozan   \n",
              "34861          Turkish                                Ömer Erbil   \n",
              "34862          Turkish                               Emre Yalgın   \n",
              "34863          Turkish                                Orhan Oğuz   \n",
              "34864          Turkish                               Hakan Algül   \n",
              "34865          Turkish                         Mehmet Tanrısever   \n",
              "34866          Turkish                               Sinan Çetin   \n",
              "34867          Turkish                             Cenk Özakıncı   \n",
              "34868          Turkish                          Ömer Faruk Sorak   \n",
              "34869          Turkish                                 Ali İlhan   \n",
              "34870          Turkish                              Sedat Yılmaz   \n",
              "34871          Turkish                            İlksen Başarır   \n",
              "34872          Turkish                                 Belma Baş   \n",
              "34873          Turkish                           Tolga Karaçelik   \n",
              "34874          Turkish                               Selim Güneş   \n",
              "34875          Turkish                         Nuri Bilge Ceylan   \n",
              "34876          Turkish                          Levent Demirkale   \n",
              "34877          Turkish                             Erdem Tepegöz   \n",
              "34878          Turkish               Director: Müfit Can Saçıntı   \n",
              "34879          Turkish               Director: Nuri Bilge Ceylan   \n",
              "34880          Turkish                    Director: Kaan Müjdeci   \n",
              "34881          Turkish                   Director: Russell Crowe   \n",
              "34882          Turkish                            Selçuk Aydemir   \n",
              "34883          Turkish                               Hakan Algül   \n",
              "34884          Turkish                           Brendan Bradley   \n",
              "34885          Turkish                            Ferzan Özpetek   \n",
              "\n",
              "                                                    Cast  \\\n",
              "0                                                    NaN   \n",
              "1                                                    NaN   \n",
              "2                                                    NaN   \n",
              "3                                                    NaN   \n",
              "4                                                    NaN   \n",
              "5                                              May Clark   \n",
              "6                                                    NaN   \n",
              "7                                                    NaN   \n",
              "8                                                    NaN   \n",
              "9                                                    NaN   \n",
              "10                                                   NaN   \n",
              "11                                                   NaN   \n",
              "12                                                   NaN   \n",
              "13                     William Craven, Florence Lawrence   \n",
              "14                                               Unknown   \n",
              "15                       Bertha Regustus, Edward Boulden   \n",
              "16                     Arthur V. Johnson, Linda Arvidson   \n",
              "17                                        D. W. Griffith   \n",
              "18                          Harry Solter, Linda Arvidson   \n",
              "19                                        Charles Inslee   \n",
              "20                                          Tom Ricketts   \n",
              "21                         Florence Auer, John G. Adolfi   \n",
              "22                                        Marion Leonard   \n",
              "23                                     Arthur V. Johnson   \n",
              "24                                                   NaN   \n",
              "25                                        Marion Leonard   \n",
              "26                           Mary Pickford, Mack Sennett   \n",
              "27                  Marc McDermott, Charles Stanton Ogle   \n",
              "28     Augustus Phillips, Charles Stanton Ogle, Mary ...   \n",
              "29                                                   NaN   \n",
              "...                                                  ...   \n",
              "34856               Suzan Genç, Selen Uçer & Serdal Genç   \n",
              "34857      Semahat Garuşanin, Mesut Akusta & Deniz Çakır   \n",
              "34858  Güven Kıraç, Sezin Aktbaşoğulları & Cengiz Boz...   \n",
              "34859  Mahsun Kırmızıgül, Haluk Bilginer & Mustafa Sa...   \n",
              "34860            İsmail Hacıoğlu, Erkan Can & Uğur Polat   \n",
              "34861       Şerif Sezer, Mark Dacascos & Zeynep Beşerler   \n",
              "34862    Kanbolat Görkem Aslan, Özay Fecht & Ayta Sözeri   \n",
              "34863  Şevket Emrulla, Nilüfer Açıkalın & İlker İnanoğlu   \n",
              "34864            Ata Demirer, Demet Akbağ & Salih Kalyon   \n",
              "34865       Ahmet Yenilmez, Mürşit Ağa Bağ & Orhan Aydın   \n",
              "34866             Öner Erkan, Asuman Dabak & Ayşen Gruda   \n",
              "34867                  Şahin K, Nuri Alço & Coşkun Göğen   \n",
              "34868  Mehmet Günsür, Belçim Bilgin Erdoğan & Altan E...   \n",
              "34869  Claudia Cardinale, İsmail Hacıoğlu & Fahriye E...   \n",
              "34870        Aram Dilbar, Engin Emre Değer & Kadim Yaşar   \n",
              "34871        Mert Fırat, Nergis Öztürk & Sema Çeyrekbaşı   \n",
              "34872          Şeyma Uzunlar, Vahide Gördüm & Sevinç Baş   \n",
              "34873              Serkan Ercan, Zafer Diper & Nur Aysan   \n",
              "34874  Hakan Korkmaz, Sinem İslamoğlu & Gürkan Piri O...   \n",
              "34875        Yılmaz Erdoğan, Taner Birsel & Ufuk Karaali   \n",
              "34876  Bucin Abdullah, Selma Alispahic, Tina Cvitanov...   \n",
              "34877  Jale Arıkan, Rüçhan Caliskur, Özay Fecht, Remz...   \n",
              "34878  Director: Müfit Can Saçıntı\\r\\nCast: Rasim Özt...   \n",
              "34879  Director: Nuri Bilge Ceylan\\r\\nCast: Haluk Bil...   \n",
              "34880         Director: Kaan Müjdeci\\r\\nCast: Dogan Izci   \n",
              "34881  Director: Russell Crowe\\r\\nCast: Russell Crowe...   \n",
              "34882                          Ahmet Kural, Murat Cemcir   \n",
              "34883              Ata Demirer, Tuvana Türkay, Ülkü Duru   \n",
              "34884  YouTubers Shanna Malcolm, Shira Lazar, Sara Fl...   \n",
              "34885  Halit Ergenç, Tuba Büyüküstün, Mehmet Günsür, ...   \n",
              "\n",
              "                            Genre  \\\n",
              "0                         unknown   \n",
              "1                         unknown   \n",
              "2                         unknown   \n",
              "3                         unknown   \n",
              "4                         unknown   \n",
              "5                         unknown   \n",
              "6                         western   \n",
              "7                          comedy   \n",
              "8                         unknown   \n",
              "9                         unknown   \n",
              "10                          short   \n",
              "11     short action/crime western   \n",
              "12                     short film   \n",
              "13                   biographical   \n",
              "14                         comedy   \n",
              "15                         comedy   \n",
              "16                          drama   \n",
              "17                          drama   \n",
              "18                         comedy   \n",
              "19                      adventure   \n",
              "20                          drama   \n",
              "21                        western   \n",
              "22                          drama   \n",
              "23                          drama   \n",
              "24                          drama   \n",
              "25                        unknown   \n",
              "26                          drama   \n",
              "27                        unknown   \n",
              "28                        unknown   \n",
              "29                         comedy   \n",
              "...                           ...   \n",
              "34856                       drama   \n",
              "34857                       drama   \n",
              "34858                       drama   \n",
              "34859                      action   \n",
              "34860                       drama   \n",
              "34861                      action   \n",
              "34862                       drama   \n",
              "34863                       drama   \n",
              "34864                      comedy   \n",
              "34865                       drama   \n",
              "34866                comedy-drama   \n",
              "34867                      comedy   \n",
              "34868                       drama   \n",
              "34869                comedy-drama   \n",
              "34870                       drama   \n",
              "34871                       drama   \n",
              "34872                comedy-drama   \n",
              "34873                       drama   \n",
              "34874                       drama   \n",
              "34875                       drama   \n",
              "34876                       drama   \n",
              "34877                  drama film   \n",
              "34878                     unknown   \n",
              "34879                     unknown   \n",
              "34880                     unknown   \n",
              "34881                     unknown   \n",
              "34882                      comedy   \n",
              "34883                      comedy   \n",
              "34884             romantic comedy   \n",
              "34885                    romantic   \n",
              "\n",
              "                                               Wiki Page  \\\n",
              "0      https://en.wikipedia.org/wiki/Kansas_Saloon_Sm...   \n",
              "1      https://en.wikipedia.org/wiki/Love_by_the_Ligh...   \n",
              "2      https://en.wikipedia.org/wiki/The_Martyred_Pre...   \n",
              "3      https://en.wikipedia.org/wiki/Terrible_Teddy,_...   \n",
              "4      https://en.wikipedia.org/wiki/Jack_and_the_Bea...   \n",
              "5      https://en.wikipedia.org/wiki/Alice_in_Wonderl...   \n",
              "6      https://en.wikipedia.org/wiki/The_Great_Train_...   \n",
              "7          https://en.wikipedia.org/wiki/The_Suburbanite   \n",
              "8      https://en.wikipedia.org/wiki/The_Little_Train...   \n",
              "9      https://en.wikipedia.org/wiki/The_Night_Before...   \n",
              "10     https://en.wikipedia.org/wiki/Dream_of_a_Rareb...   \n",
              "11     https://en.wikipedia.org/wiki/From_Leadville_t...   \n",
              "12     https://en.wikipedia.org/wiki/Kathleen_Mavourn...   \n",
              "13     https://en.wikipedia.org/wiki/Daniel_Boone_(19...   \n",
              "14     https://en.wikipedia.org/wiki/How_Brown_Saw_th...   \n",
              "15     https://en.wikipedia.org/wiki/Laughing_Gas_(fi...   \n",
              "16     https://en.wikipedia.org/wiki/The_Adventures_o...   \n",
              "17         https://en.wikipedia.org/wiki/The_Black_Viper   \n",
              "18     https://en.wikipedia.org/wiki/A_Calamitous_Elo...   \n",
              "19     https://en.wikipedia.org/wiki/The_Call_of_the_...   \n",
              "20     https://en.wikipedia.org/wiki/A_Christmas_Caro...   \n",
              "21     https://en.wikipedia.org/wiki/The_Fight_for_Fr...   \n",
              "22            https://en.wikipedia.org/wiki/At_the_Altar   \n",
              "23     https://en.wikipedia.org/wiki/A_Drunkard%27s_R...   \n",
              "24        https://en.wikipedia.org/wiki/The_Golden_Louis   \n",
              "25     https://en.wikipedia.org/wiki/The_Lure_of_the_...   \n",
              "26        https://en.wikipedia.org/wiki/An_Arcadian_Maid   \n",
              "27     https://en.wikipedia.org/wiki/A_Christmas_Caro...   \n",
              "28     https://en.wikipedia.org/wiki/Frankenstein_(19...   \n",
              "29     https://en.wikipedia.org/wiki/Hemlock_Hoax,_th...   \n",
              "...                                                  ...   \n",
              "34856  https://en.wikipedia.org/wiki/A_Step_into_the_...   \n",
              "34857  https://en.wikipedia.org/wiki/How_Are_You%3F_(...   \n",
              "34858  https://en.wikipedia.org/wiki/The_Crossing_(20...   \n",
              "34859  https://en.wikipedia.org/wiki/Five_Minarets_in...   \n",
              "34860  https://en.wikipedia.org/wiki/The_Jackal_(2010...   \n",
              "34861  https://en.wikipedia.org/wiki/Secret_of_the_Su...   \n",
              "34862         https://en.wikipedia.org/wiki/Other_Angels   \n",
              "34863            https://en.wikipedia.org/wiki/Hayde_Bre   \n",
              "34864       https://en.wikipedia.org/wiki/Eyyvah_Eyvah_2   \n",
              "34865      https://en.wikipedia.org/wiki/Free_Man_(film)   \n",
              "34866         https://en.wikipedia.org/wiki/Paper_(film)   \n",
              "34867     https://en.wikipedia.org/wiki/Scapegoat_(film)   \n",
              "34868  https://en.wikipedia.org/wiki/Love_Likes_Coinc...   \n",
              "34869       https://en.wikipedia.org/wiki/Signora_Enrica   \n",
              "34870         https://en.wikipedia.org/wiki/Press_(film)   \n",
              "34871  https://en.wikipedia.org/wiki/Merry-Go-Round_(...   \n",
              "34872        https://en.wikipedia.org/wiki/Zephyr_(film)   \n",
              "34873    https://en.wikipedia.org/wiki/Toll_Booth_(film)   \n",
              "34874  https://en.wikipedia.org/wiki/White_as_Snow_(f...   \n",
              "34875  https://en.wikipedia.org/wiki/Once_Upon_a_Time...   \n",
              "34876         https://en.wikipedia.org/wiki/Selam_(film)   \n",
              "34877      https://en.wikipedia.org/wiki/Particle_(film)   \n",
              "34878  https://en.wikipedia.org/wiki/Mand%C4%B1ra_Fil...   \n",
              "34879  https://en.wikipedia.org/wiki/Winter_Sleep_(film)   \n",
              "34880         https://en.wikipedia.org/wiki/Sivas_(film)   \n",
              "34881    https://en.wikipedia.org/wiki/The_Water_Diviner   \n",
              "34882  https://en.wikipedia.org/wiki/%C3%87alg%C4%B1_...   \n",
              "34883         https://en.wikipedia.org/wiki/Olanlar_Oldu   \n",
              "34884  https://en.wikipedia.org/wiki/Non-Transferable...   \n",
              "34885  https://en.wikipedia.org/wiki/%C4%B0stanbul_K%...   \n",
              "\n",
              "                                                    Plot  Count  \\\n",
              "0      A bartender is working at a saloon, serving dr...      1   \n",
              "1      The moon, painted with a smiling face hangs ov...      1   \n",
              "2      The film, just over a minute long, is composed...      1   \n",
              "3      Lasting just 61 seconds and consisting of two ...      1   \n",
              "4      The earliest known adaptation of the classic f...      1   \n",
              "5      Alice follows a large white rabbit down a \"Rab...      1   \n",
              "6      The film opens with two bandits breaking into ...      1   \n",
              "7      The film is about a family who move to the sub...      1   \n",
              "8      The opening scene shows the interior of the ro...      1   \n",
              "9      Scenes are introduced using lines of the poem....      1   \n",
              "10     The Rarebit Fiend gorges on Welsh rarebit at a...      1   \n",
              "11     The film features a train traveling through th...      1   \n",
              "12     Irish villager Kathleen is a tenant of Captain...      1   \n",
              "13     Boone's daughter befriends an Indian maiden as...      1   \n",
              "14     Before heading out to a baseball game at a nea...      1   \n",
              "15     The plot is that of a black woman going to the...      1   \n",
              "16     On a beautiful summer day a father and mother ...      1   \n",
              "17     A thug accosts a girl as she leaves her workpl...      1   \n",
              "18     A young couple decides to elope after being ca...      1   \n",
              "19     A white girl (Florence Lawrence) rejects a pro...      1   \n",
              "20     No prints of the first American film adaptatio...      1   \n",
              "21     The film opens in a town on the Mexican border...      1   \n",
              "22     A rejected admirer sets up a trap to kill his ...      1   \n",
              "23     John Wharton, the husband of a true and trusti...      1   \n",
              "24     An old woman sends a girl begging in the stree...      1   \n",
              "25     The story as told by Moving Picture World read...      1   \n",
              "26     Mary Pickford plays Priscilla an unemployed ma...      1   \n",
              "27     The day before Christmas, Ebenezer Scrooge ref...      1   \n",
              "28     Described as \"a liberal adaptation of Mrs. She...      1   \n",
              "29     Hemlock Hoax is a detective who has little res...      1   \n",
              "...                                                  ...    ...   \n",
              "34856  The film tells the tragic story of an Iraqi-Tu...      1   \n",
              "34857  Semahat, whose parents emigrated to İstanbul f...      1   \n",
              "34858  Güven works at an accounting firm and leads an...      1   \n",
              "34859  The film follows two anti-terror officers from...      1   \n",
              "34860  The life of Akın, who lives in one of the poor...      1   \n",
              "34861  An American professor travels to Istanbul to f...      1   \n",
              "34862  Sanem (Didem Soylu) is a prostitute who shares...      1   \n",
              "34863  Şaban Agha (Şevket Emrulla) lives in a small M...      1   \n",
              "34864  Hüseyin (Ata Demirer), a clarinetist from a vi...      1   \n",
              "34865  Muslim Kurdish scholar Said Nursî passes throu...      1   \n",
              "34866  Emrah is a dreamer who hopes to be a great dir...      1   \n",
              "34867  Şahin K. is a wealthy and famous (or, rather, ...      1   \n",
              "34868  One September morning in 1977 in Ankara, a you...      1   \n",
              "34869  Abandoned with a son by her husband years ago,...      1   \n",
              "34870  It is the early 1990s, and a handful of journa...      1   \n",
              "34871  Erdem and Sevil live in a small town with thei...      1   \n",
              "34872  Zephyr is a strong-willed little girl, spendin...      1   \n",
              "34873  Kenan is a 35-year-old toll booth attendant st...      1   \n",
              "34874  Hasan is a twelve-year-old boy living with his...      1   \n",
              "34875  Through the night, three cars carry a small gr...      1   \n",
              "34876  The film opens with a Senegalese boy named Kha...      1   \n",
              "34877  Zeynep lost her job at weaving factory, and he...      1   \n",
              "34878  Cavit an ambitious industralist in İstanbul pl...      1   \n",
              "34879  Aydın, a former actor, owns a mountaintop hote...      1   \n",
              "34880  The film follows an eleven-year-old boy named ...      1   \n",
              "34881  The film begins in 1919, just after World War ...      1   \n",
              "34882  Two musicians, Salih and Gürkan, described the...      1   \n",
              "34883  Zafer, a sailor living with his mother Döndü i...      1   \n",
              "34884  The film centres around a young woman named Am...      1   \n",
              "34885  The writer Orhan Şahin returns to İstanbul aft...      1   \n",
              "\n",
              "                  GenreCorrected              GenreSplit  \n",
              "0                                                     []  \n",
              "1                                                     []  \n",
              "2                                                     []  \n",
              "3                                                     []  \n",
              "4                                                     []  \n",
              "5                                                     []  \n",
              "6                         action                [action]  \n",
              "7                         comedy                [comedy]  \n",
              "8                                                     []  \n",
              "9                                                     []  \n",
              "10                         short                 [short]  \n",
              "11     short|action|crime|action  [action, crime, short]  \n",
              "12                         short                 [short]  \n",
              "13                     biography             [biography]  \n",
              "14                        comedy                [comedy]  \n",
              "15                        comedy                [comedy]  \n",
              "16                         drama                 [drama]  \n",
              "17                         drama                 [drama]  \n",
              "18                        comedy                [comedy]  \n",
              "19                        action                [action]  \n",
              "20                         drama                 [drama]  \n",
              "21                        action                [action]  \n",
              "22                         drama                 [drama]  \n",
              "23                         drama                 [drama]  \n",
              "24                         drama                 [drama]  \n",
              "25                                                    []  \n",
              "26                         drama                 [drama]  \n",
              "27                                                    []  \n",
              "28                                                    []  \n",
              "29                        comedy                [comedy]  \n",
              "...                          ...                     ...  \n",
              "34856                      drama                 [drama]  \n",
              "34857                      drama                 [drama]  \n",
              "34858                      drama                 [drama]  \n",
              "34859                     action                [action]  \n",
              "34860                      drama                 [drama]  \n",
              "34861                     action                [action]  \n",
              "34862                      drama                 [drama]  \n",
              "34863                      drama                 [drama]  \n",
              "34864                     comedy                [comedy]  \n",
              "34865                      drama                 [drama]  \n",
              "34866               comedy|drama         [comedy, drama]  \n",
              "34867                     comedy                [comedy]  \n",
              "34868                      drama                 [drama]  \n",
              "34869               comedy|drama         [comedy, drama]  \n",
              "34870                      drama                 [drama]  \n",
              "34871                      drama                 [drama]  \n",
              "34872               comedy|drama         [comedy, drama]  \n",
              "34873                      drama                 [drama]  \n",
              "34874                      drama                 [drama]  \n",
              "34875                      drama                 [drama]  \n",
              "34876                      drama                 [drama]  \n",
              "34877                      drama                 [drama]  \n",
              "34878                                                 []  \n",
              "34879                                                 []  \n",
              "34880                                                 []  \n",
              "34881                                                 []  \n",
              "34882                     comedy                [comedy]  \n",
              "34883                     comedy                [comedy]  \n",
              "34884             romance|comedy       [comedy, romance]  \n",
              "34885                    romance               [romance]  \n",
              "\n",
              "[34886 rows x 11 columns]>"
            ]
          },
          "metadata": {
            "tags": []
          },
          "execution_count": 194
        }
      ]
    },
    {
      "metadata": {
        "id": "YkgZ5bRE1_7o",
        "colab_type": "code",
        "colab": {
          "base_uri": "https://localhost:8080/",
          "height": 68
        },
        "outputId": "d8512b9a-8f12-4e51-96a5-15bb9ae9db08"
      },
      "cell_type": "code",
      "source": [
        "df.columns"
      ],
      "execution_count": 195,
      "outputs": [
        {
          "output_type": "execute_result",
          "data": {
            "text/plain": [
              "Index(['Release Year', 'Title', 'Origin/Ethnicity', 'Director', 'Cast',\n",
              "       'Genre', 'Wiki Page', 'Plot', 'Count', 'GenreCorrected', 'GenreSplit'],\n",
              "      dtype='object')"
            ]
          },
          "metadata": {
            "tags": []
          },
          "execution_count": 195
        }
      ]
    },
    {
      "metadata": {
        "id": "sHCi-lVA2-ig",
        "colab_type": "code",
        "colab": {
          "base_uri": "https://localhost:8080/",
          "height": 1071
        },
        "outputId": "2e429cd3-3804-4ab9-c4a2-a95e79b37d5f"
      },
      "cell_type": "code",
      "source": [
        "df['GenreSplit']"
      ],
      "execution_count": 196,
      "outputs": [
        {
          "output_type": "execute_result",
          "data": {
            "text/plain": [
              "0                            []\n",
              "1                            []\n",
              "2                            []\n",
              "3                            []\n",
              "4                            []\n",
              "5                            []\n",
              "6                      [action]\n",
              "7                      [comedy]\n",
              "8                            []\n",
              "9                            []\n",
              "10                      [short]\n",
              "11       [action, crime, short]\n",
              "12                      [short]\n",
              "13                  [biography]\n",
              "14                     [comedy]\n",
              "15                     [comedy]\n",
              "16                      [drama]\n",
              "17                      [drama]\n",
              "18                     [comedy]\n",
              "19                     [action]\n",
              "20                      [drama]\n",
              "21                     [action]\n",
              "22                      [drama]\n",
              "23                      [drama]\n",
              "24                      [drama]\n",
              "25                           []\n",
              "26                      [drama]\n",
              "27                           []\n",
              "28                           []\n",
              "29                     [comedy]\n",
              "                  ...          \n",
              "34856                   [drama]\n",
              "34857                   [drama]\n",
              "34858                   [drama]\n",
              "34859                  [action]\n",
              "34860                   [drama]\n",
              "34861                  [action]\n",
              "34862                   [drama]\n",
              "34863                   [drama]\n",
              "34864                  [comedy]\n",
              "34865                   [drama]\n",
              "34866           [comedy, drama]\n",
              "34867                  [comedy]\n",
              "34868                   [drama]\n",
              "34869           [comedy, drama]\n",
              "34870                   [drama]\n",
              "34871                   [drama]\n",
              "34872           [comedy, drama]\n",
              "34873                   [drama]\n",
              "34874                   [drama]\n",
              "34875                   [drama]\n",
              "34876                   [drama]\n",
              "34877                   [drama]\n",
              "34878                        []\n",
              "34879                        []\n",
              "34880                        []\n",
              "34881                        []\n",
              "34882                  [comedy]\n",
              "34883                  [comedy]\n",
              "34884         [comedy, romance]\n",
              "34885                 [romance]\n",
              "Name: GenreSplit, Length: 34886, dtype: object"
            ]
          },
          "metadata": {
            "tags": []
          },
          "execution_count": 196
        }
      ]
    },
    {
      "metadata": {
        "id": "eXtJUDxd47YD",
        "colab_type": "code",
        "colab": {}
      },
      "cell_type": "code",
      "source": [
        "mainGenres = np.array(genres[genres['CumulativeFrequency']<=.957]['Genre'])"
      ],
      "execution_count": 0,
      "outputs": []
    },
    {
      "metadata": {
        "id": "7CfsPnHE8BFe",
        "colab_type": "code",
        "colab": {
          "base_uri": "https://localhost:8080/",
          "height": 85
        },
        "outputId": "608d8434-5638-4fd3-e18b-0227ff6a7e8b"
      },
      "cell_type": "code",
      "source": [
        "mainGenres"
      ],
      "execution_count": 198,
      "outputs": [
        {
          "output_type": "execute_result",
          "data": {
            "text/plain": [
              "array(['drama', 'comedy', 'action', 'thriller', 'romance', 'crime',\n",
              "       'musical', 'animation', 'children', 'fantasy', 'mystery',\n",
              "       'biography', 'black', 'history', 'short', 'documentary', 'sports',\n",
              "       'series', 'adult', 'political'], dtype=object)"
            ]
          },
          "metadata": {
            "tags": []
          },
          "execution_count": 198
        }
      ]
    },
    {
      "metadata": {
        "id": "fgx45ekF8CfU",
        "colab_type": "code",
        "colab": {}
      },
      "cell_type": "code",
      "source": [
        "df['GenreSplitMain'] = df['GenreSplit'].apply(lambda x: x[np.in1d(x, mainGenres)])"
      ],
      "execution_count": 0,
      "outputs": []
    },
    {
      "metadata": {
        "id": "KfHfWsTW9kwr",
        "colab_type": "code",
        "colab": {
          "base_uri": "https://localhost:8080/",
          "height": 85
        },
        "outputId": "7be4f6b2-8436-492a-c2e8-665d45cd25fd"
      },
      "cell_type": "code",
      "source": [
        "df.columns"
      ],
      "execution_count": 200,
      "outputs": [
        {
          "output_type": "execute_result",
          "data": {
            "text/plain": [
              "Index(['Release Year', 'Title', 'Origin/Ethnicity', 'Director', 'Cast',\n",
              "       'Genre', 'Wiki Page', 'Plot', 'Count', 'GenreCorrected', 'GenreSplit',\n",
              "       'GenreSplitMain'],\n",
              "      dtype='object')"
            ]
          },
          "metadata": {
            "tags": []
          },
          "execution_count": 200
        }
      ]
    },
    {
      "metadata": {
        "id": "lKlrfs6-9n3i",
        "colab_type": "code",
        "colab": {}
      },
      "cell_type": "code",
      "source": [
        "df = pandas.concat([df, df.GenreSplitMain.apply(lambda x: '-'.join(x)).str.get_dummies(sep='-')], axis=1)"
      ],
      "execution_count": 0,
      "outputs": []
    },
    {
      "metadata": {
        "id": "V80OUYwbEEEU",
        "colab_type": "code",
        "colab": {
          "base_uri": "https://localhost:8080/",
          "height": 136
        },
        "outputId": "965579de-2f9b-4bf8-8d67-e8a75c12fc49"
      },
      "cell_type": "code",
      "source": [
        "df.columns"
      ],
      "execution_count": 202,
      "outputs": [
        {
          "output_type": "execute_result",
          "data": {
            "text/plain": [
              "Index(['Release Year', 'Title', 'Origin/Ethnicity', 'Director', 'Cast',\n",
              "       'Genre', 'Wiki Page', 'Plot', 'Count', 'GenreCorrected', 'GenreSplit',\n",
              "       'GenreSplitMain', 'action', 'adult', 'animation', 'biography', 'black',\n",
              "       'children', 'comedy', 'crime', 'documentary', 'drama', 'fantasy',\n",
              "       'history', 'musical', 'mystery', 'political', 'romance', 'series',\n",
              "       'short', 'sports', 'thriller'],\n",
              "      dtype='object')"
            ]
          },
          "metadata": {
            "tags": []
          },
          "execution_count": 202
        }
      ]
    },
    {
      "metadata": {
        "id": "9DfpLJN4OdMT",
        "colab_type": "code",
        "colab": {}
      },
      "cell_type": "code",
      "source": [
        "# function for cleaning the plots of the movies\n",
        "def clean_text(text):\n",
        "    text = text.lower()\n",
        "    text = re.sub(r\"what's\", \"what is \", text)\n",
        "    text = re.sub(r\"\\'s\", \" \", text)\n",
        "    text = re.sub(r\"\\'ve\", \" have \", text)\n",
        "    text = re.sub(r\"can't\", \"can not \", text)\n",
        "    text = re.sub(r\"n't\", \" not \", text)\n",
        "    text = re.sub(r\"i'm\", \"i am \", text)\n",
        "    text = re.sub(r\"\\'re\", \" are \", text)\n",
        "    text = re.sub(r\"\\'d\", \" would \", text)\n",
        "    text = re.sub(r\"\\'ll\", \" will \", text)\n",
        "    text = re.sub(r\"\\'scuse\", \" excuse \", text)\n",
        "    text = text.replace('\\n', ' ').replace('\\r', '')\n",
        "    #text = re.sub('\\W', ' ', text)\n",
        "    #text = re.sub('\\s+', ' ', text)\n",
        "    text = text.strip(' ')\n",
        "    return text"
      ],
      "execution_count": 0,
      "outputs": []
    },
    {
      "metadata": {
        "id": "MHdnvn1sO-cT",
        "colab_type": "code",
        "colab": {}
      },
      "cell_type": "code",
      "source": [
        "df['PlotClean'] = df['Plot'].apply(clean_text)"
      ],
      "execution_count": 0,
      "outputs": []
    },
    {
      "metadata": {
        "id": "7YSHFlhDEJMU",
        "colab_type": "code",
        "colab": {}
      },
      "cell_type": "code",
      "source": [
        "dfTrain, dfTest = train_test_split(df[df.GenreCorrected!=''], random_state=42, test_size=0.30, shuffle=True)"
      ],
      "execution_count": 0,
      "outputs": []
    },
    {
      "metadata": {
        "id": "goyX0I0oHiWc",
        "colab_type": "code",
        "colab": {}
      },
      "cell_type": "code",
      "source": [
        "with open(\"train.txt\", \"w\") as fle:\n",
        "  for index, row in dfTrain.iterrows():\n",
        "    if row['drama']:\n",
        "      fle.write(\"__label__drama {0}\\n\".format(row['PlotClean']))\n",
        "    else:\n",
        "      fle.write(\"__label__not_drama {0}\\n\".format(row['PlotClean']))\n",
        "      \n",
        "with open(\"test.txt\", \"w\") as fle:\n",
        "  for index, row in dfTest.iterrows():\n",
        "    if row['drama']:\n",
        "      fle.write(\"__label__drama {0}\\n\".format(row['PlotClean']))\n",
        "    else:\n",
        "      fle.write(\"__label__not_drama {0}\\n\".format(row['PlotClean']))\n",
        "    "
      ],
      "execution_count": 0,
      "outputs": []
    },
    {
      "metadata": {
        "id": "R9FNq8GeMbV0",
        "colab_type": "code",
        "colab": {
          "base_uri": "https://localhost:8080/",
          "height": 428
        },
        "outputId": "030885f3-6a3b-4aa6-b9d6-7216f776a5b8"
      },
      "cell_type": "code",
      "source": [
        "print(dfTrain.shape)\n",
        "!tail train.txt\n",
        "! echo \"\"\n",
        "print(dfTest.shape)\n",
        "!tail test.txt"
      ],
      "execution_count": 230,
      "outputs": [
        {
          "output_type": "stream",
          "text": [
            "(20076, 33)\n",
            "__label__not_drama in the city of piqua, ohio, two fourth-grade friends and next-door neighbors named george beard (kevin hart) and harold hutchins (thomas middleditch) are the pranksters at their school, jerome horwitz elementary school. they excessively pull numerous pranks on the cruel teachers, many of which are directed at their \"evil\" principal, mr. benjamin \"benny\" krupp (ed helms), putting the two at odds with him. the duo also create comic books about a superhero named captain underpants, a character who has superpowers and wears underwear and a cape. they sell these to their schoolmates through a comic company called treehouse comix inc., located in their treehouse. george and harold  pranks come to an apparent end after they are  caught tampering with a toilet invention, the turbo toilet 2000, made by the school  local snitch and intellectual, melvin sneedly (jordan peele), on video. finally having solid proof of the boys' antics, mr. krupp excitedly prepares to annihilate their friendship by putting them in separate classes. to prevent this, george hypnotizes mr. krupp with a 3d hypno ring he received out of a cereal box. the boys see that mr. krupp bears an odd resemblance to captain underpants without his toupee and command him to be captain underpants. the boys soon learn the severity of their actions when \"captain underpants\" begins causing problems around piqua. to prevent these issues, the boys take him to their treehouse, where they discover that they can turn captain underpants back into mr. krupp by splashing water on him and can turn him back into captain underpants by snapping their fingers. knowing that mr. krupp will continue trying to separate them, they decide to settle with captain underpants but insist that he be dressed up as mr. krupp under the pretense of a \"secret identity,\" to which captain underpants agrees. his sudden personality change even manages to attract the attention (and affection) of the school  shy lunch lady, edith (kristen schaal). just when george and harold believe that their troubles have ended, jerome horwitz elementary school is visited by an odd, german-accented scientist named professor pee-pee diarrheastein poopypants, esq. (nick kroll), or as he calls himself, professor p. captain underpants (disguised as mr. krupp) hires him to be the new science teacher, but george and harold are suspicious of him due to his violent and short-tempered attitude, as well as his resume  content. as it turns out, poopypants is seeking to get rid of laughter altogether due to the fact that people have made fun of his name for years. he recruits melvin to help him, as he discovers (after reading a comic book george and harold made featuring characters resembling them) that melvin  brain makes him incapable of laughing or having fun. after a school carnival accident caused by captain underpants, mr. krupp finally separates the boys. professor poopypants tries to take over the town with a giant version of the turbo toilet 2000, fueled by the school cafeteria  rotten leftovers left out by edith and uses melvin  brain to turn the children into glum, humorless zombies. captain underpants tries to stop the villain, but due to having no actual superpowers, is effortlessly defeated and thrown into the toilet. george and harold are captured and nearly turned into zombies, but are able to escape after professor poopypants mentions the planet uranus, causing the boys to laugh and damage the turbo toilet 2000  computer, restoring the children back to normal. upon consuming the mutated leftovers, captain underpants acquires superpowers and, with george and harold  help, defeats and shrinks poopypants, though he escapes on a bumblebee shortly thereafter. knowing that they can not  control captain underpants, george and harold destroy the hypno ring to permanently change him back into mr. krupp. feeling that mr. krupp would be nicer if he had friends, the boys set him and lovesick edith up on a date, thus making mr. krupp have a change of heart. krupp returns the comics he took away from george and harold, and even admits their comics are funny. however, the toxic waste from the turbo toilet 2000 transforms all the toilets into vicious monsters which attack the restaurant at which mr. krupp and edith are dining. upon snapping his fingers, mr. krupp once again becomes captain underpants, carrying george and harold away to help him fight them, much to edith  surprise and admiration. in a mid-credits scene, george and harold realize that the secretary, who they put on hold before by faking a contest with a cash prize of $1 billion, has been on the phone for the entire film, so they shut off the call, make the secretary angry, and make a new comic based on her reaction.\n",
            "__label__not_drama in ancient egypt, pharaoh khufu (jack hawkins) is obsessed with preparing his tomb for the \"second life\". dissatisfied with his own architects' offerings, he enlists vashtar (james robertson justice), an ingenious man whose devices nearly saved his own people from being conquered and enslaved by khufu. khufu offers to free vashtar  people if he will build khufu a robber-proof tomb - although vashtar will have to die when the pyramid-tomb is completed, to guard its secrets. during the years that the pyramid is being built, pharaoh demands tribute and labor from all his territories, amassing a great wealth of gold and treasures that will be interred with him. princess nellifer (joan collins) comes as the ambassador of the tributary province of cyprus. claiming her province is poor and cannot afford to pay the assigned tribute, she offers herself to pharaoh instead. she becomes khufu  second wife. nellifer questions whether khufu really had as much gold as he says, so she is shown an enormous hoard of fine gold artifacts and jewels, and more in an inner vault that khufu is saving for his \"second life.\" she puts on an ornate, jewel encrusted necklace which khufu angrily demands she remove. after he leaves, she puts it on again, and dares treneh (sydney chaplin), the captain of the guard, to take it from her, which he does gently. later, nellifer starts an affair with treneh, who has become besotten with her. one day on the construction site vashtar  son, senta (dewey martin), saves khufu from being crushed to death by a runaway stone block. in order to get the injured khufu out of the pyramid to help, senta reveals that he too knows the tomb  secrets, knowing that he must now share his father  fate. a grateful pharaoh offers him anything else within his power; senta chooses nellifer  slave kyra to save her from being whipped for her fierce independence. using a cobra obtained from a snake charmer with the help of treneh, nellifer plots to assassinate first queen nailla and her son zanin, then khufu, leaving her to rule egypt. first, treneh persuades khufu that there is a rich hoard of treasure in a tomb far to the north, in order to draw him away from the palace. then nellifer gives zanin a flute to practice and teaches him a tune the snake will be attracted to. queen nailla sees the snake approaching zanin and throws herself on it to save her son. hearing of the queen  death, khufu sends out investigators to look for snake charmers. panicking, nellifer dispatches her servant mabuna to kill khufu at the oasis, but mabuna only manages to wound khufu before being killed. suspecting nellifer, khufu rushes back to the city. in her chambers he overhears her and treneh plotting; he kills treneh in a sword fight, but is himself fatally wounded. the pharaoh, before dying, sees nellifer wearing the necklace that he deliberately took from her earlier, and then dies while calling out for his high priest and lifelong friend hamar (alexis minotis, billed as alex minotis). after khufu  death, hamar, suspecting what nellifer did and deeming the tomb truly robber-proof, even for vashtar and senta, releases them from their death sentences, allowing them to leave egypt and return to their homeland with their people as part of a plan to deal with nellifer. during pharaoh  funeral, hamar has nellifer accompany him into the burial chamber because she \"must give the order\" to seal the sarcophagus. when her order is obeyed, it releases a large stone in a lower chamber, triggering vashtar  mechanism to seal the tomb. nellifer goes into hysterics when told the tomb is being sealed, realizing she is trapped. \"there  no way out,\" hamar tells her, adding: \"this is what you lied and schemed and murdered to achieve. this is your kingdom.\"\n",
            "__label__drama police inspectors lau ching-hei and yau kin-bong arrest a rapist in 2003. when yau returns home later, he sees that his pregnant girlfriend has committed suicide by slitting her wrists. yau is so depressed with her death that he indulges in alcohol and turns in his police badge to work as a private investigator. he becomes obsessed with finding out the reason for his girlfriend  suicide. three years later, yau discovers that his girlfriend had actually cheated on him and she was waiting at a bar for her secret lover on the night she died. her secret lover did not show up that night because he was involved in a car accident. yau initially thought that he will be angry with his girlfriend  lover, but he ends up taking care of the comatose man in the hospital. yau gets over the unhappy incident and falls in love with hung, a girl who sells beer in the same bar. lau  wife, susan, is the daughter of the billionaire chow yuen-sing. one night, lau and two accomplices break into his father-in-law  residence, where they kill chow and his butler, uncle man. later, lau lures his partners-in-crime to a rundown house and murders them, after which he attempts to make the scene seem as though the two of them killed each other in a dispute over the loot. susan is not convinced that only the two killers were involved, so she hires yau to help her investigate further. she has also become paranoid after her father  murder, so lau has to discreetly give her pills to calm her down and put her to sleep. after a long investigation, which includes a few dangerous confrontations with a \"suspect\", yau discovers lau  secret and dark past. chow yuen-sing had murdered lau  family members in macau several years ago when lau was still a boy, and he bribed the police to close the case. lau survived, took on a new identity, and grew up in an orphanage before moving to hong kong, where he became a police officer. lau seeks vengeance on chow and he pretended to fall in love with susan and married her. he attempts to kill susan by drugging her and locking her inside the kitchen after turning on the gas. susan survives, but is badly injured because there was an explosion, and ends up in hospital. lau visits susan in hospital and mentally confesses the truth to her. she reveals that she already knows he tried to murder her because she was still partially conscious when he drugged her and locked her in the kitchen. she then asks him if he ever really loved her. lau realises that, in his desire for revenge, he has destroyed a new family he created with susan. susan does not believe him, loses her will to live, and dies. yau meets lau outside the hospital and tells him his conclusion. lau returns to susan  room, where he feels overwhelmed by guilt and eventually commits suicide by shooting himself in the head.\n",
            "__label__not_drama jim chee is assigned four cases to solve by captain largo, his new boss at the tuba city, arizona office of the navajo tribal police. one is to ascertain who stole jewelry from the burnt water trading post, and to find the paroled man suspected of the thievery, joseph musket. the third is to find who is vandalizing a windmill in the joint-use lands recently allotted to the hopi. fourth is to learn the identity of the navajo man found dead on the path to kisigi spring. while he is on stakeout near the windmill one night, a small plane crash lands in the wepo wash. chee runs to the crash, finding the pilot and his passenger dead, and a man sitting up in a business suit, holding a card, murdered. as he approaches, he hears someone leaving on foot in the early morning darkness. he also hears a gunshot, most likely the one that killed the man in the business suit, and sees headlights of a vehicle leaving the scene. the airplane was carrying illegal cargo, likely drugs, and the dea agents, in particular t. l. johnson, are possessive of their law enforcement turf. as chee collects information on joseph musket and on the unidentified corpse, he gradually learns information related to the crash and the drug deal. johnson finds this as reason to invade chee  home in the morning, including beating chee up, in johnson’s usual style. johnson puts forward that chee was present so soon after the plane crashed because chee is part of the drug smuggling. the deteriorated condition of the corpse, found over a week after death, makes identification impossible. later, albert lomatewa provides the exact date of death and how the corpse looked, hands and feet flayed as if by a navajo \"skinwalker\", or witch. chee meets jake west, owner of the burnt water trading post, where the jewelry theft was reported, and briefly the employer of musket. west’s son, thomas rodney west, was killed recently in prison; he had been friends with joseph musket since childhood. chee presses cowboy dashee to arrange an interview with the hopi elder responsible for a shrine near the windmill. dashee translates. chee makes a deal with taylor sawkatewa: chee will bring supplies to stop that windmill, which interferes with water flow around the shrine, in return for sawkatewa telling all he saw and heard in the time it took chee to reach the plane crash site. a man forced another to place the landing lights in the wrong place, and then shot him dead. items were removed from the plane but they were not placed in the car that left the scene. from the pilot’s sister, chee learns a meeting is set up for transfer of the drugs during a private hopi kachina ceremony. she wants revenge, or justice, for her brother’s death. revenge is not a navajo concept, so chee struggles to understand it as motivation. chee arrives at sityatki, the old hopi village, having retrieved the two aluminum suitcases filled with cocaine from their hiding place in the sand at the crash site. both jake west and johnson appear, the former expected, the latter a surprise. west has killed the drug kingpin, figuring he is responsible for his son’s murder while he was held in prison. johnson is there not truly as a dea agent, but as the man who wants these drugs, which he claims are worth $15 million. after chee arrests and handcuffs west, johnson does the same to chee. as this encounter unfolds, a rare intense rainstorm breaks the long drought, rapidly making dangerous rivers in the usually dry arroyos. at chee’s vehicle, johnson gets the suitcases of cocaine. johnson’s plan is to kill the other two. chee explains how johnson visited thomas west in prison, such that the other prisoners assumed he was a snitch and killed him in regular confinement. johnson could have handled that so thomas lived. jake west understands this means he killed the wrong man in revenge for his son’s death. chee grabs one suitcase and throws it at johnson. it then slides to the river which horrifies johnson, who runs to save the cocaine. west follows and pushes johnson into the river. chee tells west that the unidentified corpse will be checked against joseph musket’s prison dental records, and it is clear that west killed musket. west says that the jewelry reported stolen is hidden in his kitchen, just before he dies from the gunshot wound received from johnson. west killed six men before reaching johnson to avenge his son  murder. chee reflects that all this time, capt. largo insisted that chee stay out of the drug smuggling case. not wanting to be criticized, chee hurls the other suitcase full of cocaine into the raging river, all other active cases having been solved.\n",
            "__label__drama jack grimaldi, a corrupt cop who does favors for the mafia in exchange for large fees, has a loving wife, natalie, and an adoring mistress, sheri. he thinks he has it all, until both the cops and mob are outwitted by a psychopathic russian female mob assassin, mona demarkov. italian crime boss don falcone orders jack to deal with demarkov. jack is unable to kill her; she seduces and makes a fool of him. falcone, disappointed in jack  ineptitude, orders one of his toes amputated. realizing he has endangered both his wife and mistress, jack instructs natalie to leave the city immediately, giving her all the payoff money he  saved as well as instructions where to meet him out west when the time is right. jack ends his affair with sheri and puts her on a train out of the city. jack tries to hunt demarkov but soon realizes that he is putty in her hands. he is attracted to her sexually and no match for her professionally. mona forces him to help her bury falcone alive, then offers to pay jack to help her fake her own death. although he obtains phony papers for her, she refuses to pay and attempts to strangle him. he shoots and wounds her in the arm, then tries to drive away with her handcuffed in the back seat. mona escapes by hooking her legs around his neck, causing him to crash the car. she slithers out through the shattered windshield without freeing her hands. mona lures jack to an abandoned warehouse. he again attempts to kill her but is tricked into shooting sheri instead. mona fixes the corpse so as to suggest that it was she, and not sheri, who died. mona handcuffs jack to the bed and they have sex. she turns jack in, copping a plea deal that will indict jack for the multiple murders that she tricked him into committing. the police arrange a confrontation between jack and demarkov at the courthouse, as he is heading in and she is heading out. she threatens to kill his wife. jack grabs a gun from the ankle holster of a fellow officer and shoots her dead. he turns the gun on himself, only to discover that the revolver is empty. instead of being sent to prison for the murder, he is given a commendation. this frees him to begin a new life out west, with the new identity of \"jim daugherty\". he imagines natalie  return, but, as mona told him, natalie is long gone, never to return. a despondent jim is resigned to living life alone in a remote desert town.\n",
            "__label__not_drama in 2008, a combined task group of people  liberation army special operations forces and chinese police raid a drug smuggling operation in an abandoned chemical facility in southern china. the leader of the smuggling operation, wu ji, holds one of his own men hostage while taking cover behind a section of the facility  reinforced wall. leng feng, a skilled pla sniper, ignores orders to stand down and fires three shots at a weak section of the wall, penetrating through on the third shot and killing wu ji. leng feng is sent to solitary confinement as punishment, but is approached by long xiaoyun, the female commander of the legendary 'wolf warriors', an elite unit within the pla tasked with simulating foreign tactics for the pla to train against. long xiaoyun offers leng feng a place in the wolf warriors and he accepts, being airlifted to their training grounds the next day. the wolf warriors field leader lectures leng feng on the importance of teamwork to success. meanwhile in southeast asia, crimelord min deng is apprehended by authorities but rescued by group of foreign mercenaries led by ex-us navy seal 'tom cat' (scott adkins). it is revealed that min deng is the older brother of wu ji, the drug smuggler slain by leng feng in 2008. min deng re-hires tom cat and his group to assassinate leng feng, but warns them not to underestimate the strength and resolve of the people  liberation army. the wolf warriors participate in a training exercise in a remote and uninhabited forested region on china  southern border. during the exercise, tom cat and his mercenaries ambush a wolf warrior squad, killing one of leng feng  comrades. leng feng and pla helicopters pursue tom cat but he escapes, using graphite-powder weapons to deny airspace to pla air support. without quick-reaction air support to call on, pla commanders cancel the training exercise and send a combined force of the wolf warriors and people  liberation army special operations forces into the forest to apprehend tom cat and his mercenaries. while re-arming from helicopter-delivered supply drops, the wolf warriors are inspired by a speech from their commanders to defend the honour of china and avenge the death of their comrade. the combined infantry force move into the forest but are delayed by multiple traps set by tom cat and pinned down by sniper fire from assassin, tom cat  elite marksman. leng feng and the other soldiers cut down a tree with sheer firepower to create cover and leng feng sprints into the forest alone to flank assassin, dodging his fire and managing to engage and kill him at point-blank range. meanwhile the rest of the pla force engages tom cat  other mercenaries, who stage a fighting retreat but are eventually overwhelmed and killed one by one. at base, long xiaoyun and the other pla commanders deduce that ming deng himself is also in the training area to take possession of a smuggled cache of biotechnology, which could allow the creation of a genetic weapon that could target chinese people exclusively. leng feng again pursues tom cat through the forest, who delays him with multiple traps including a land mine, which leng feng triggers but escapes from by digging a pit under the mine and jumping away from the blast. he eventually catches tom cat just before the marker delineating china  southern border. both fighters empty their weapons at each other before engaging in close-quarters combat. leng feng, wounded and exhausted from the previous fights, is nearly defeated, but manages to kill tom cat with his own knife after tom cat mocks leng feng  patriotism. medical personnel from a pla relief force arrive, but leng feng recognises the wrist tattoo of the medic that approaches him and realizes that they are min deng  men in pla uniforms. he grabs a rifle and attacks them, eventually holding min deng himself at bayonet point on the very edge of the chinese border. min deng  massive paramilitary force approaches from the other side of the border, but so do the rest of the wolf warriors and pla soldiers. min deng  force retreats. after the action, commander long xiaoyun agrees to accompany leng feng for a drink.\n",
            "__label__not_drama in a small indiana town in the mid-1910s, the winfield household – banker father george, his wife alice, their grown tomboyish daughter marjorie, their precocious trouble-making son wesley, and their exasperated housekeeper stella – have just moved into a larger house in a nicer neighborhood. no one but george is happy about the move, until marjorie meets their new neighbor, william sherman, home on a break from his studies at the university of indiana. the two are immediately attracted to each other, which makes margie change her focus from baseball to trying to become a proper young woman. their resulting relationship is despite, or perhaps because of bill  unconventional thoughts on life, including not believing in the institution of marriage, or believing in the role money plays in society. the road to a happy life between margie and bill is not only hindered by distance as bill returns to school and margie  attempts to learn feminine things, but also george  dislike of bill because of their differing beliefs, the stuffy hubert wakely also trying to court margie (he who is george  choice as an appropriate suitor for her), wesley  continual meddling in his sister  life, and world war i. one of those issues may be overcome when wesley receives a gift from aunt martha that used to be his father old slingshot that he used to kill aunt martha ' best hen. his father discovers the old slingshot after wesley cracks a window with it, his father gets emotional after he sees it and everything is resolved in time for a happy ending.[2]\n",
            "__label__not_drama when johnny quinlan loses his job in a drug store, he is afraid to tell his wife, bertha, and therefore keeps up the pretense of leaving each morning for a non-existent job, as he begins the search for a new job. as the days pass and he is unable to find employment, their household, which includes his sister, lottie, and bertha  brother, dan walsh, goes through what little savings they have. as he gets more desperate, he agrees to do small jobs for \"nifty\" herman, a small-time gangster. nifty had loaned johnny $15, as part of a plan to entice him to work for him. after johnny gets insulted by a common laborer job offer from a neighbor, nifty lies to him and says that he has a friend who will get him a managerial position at a liquor store. all johnny has to do is hold onto a case of high-priced alcohol for a few days. dubious, johnny reluctantly agrees and takes the suitcase back to his apartment. however, when bertha finds out who he got the suitcase from, she demands that he return it, threatening to leave him if he does not . taking the case back to nifty, he finds the office locked, and so returns home. when he arrives, his sister  suitor, charles newton, is visiting. newton is a government agent. even though johnny tries to hide the case, his efforts are futile, and newton spies it and becomes suspicious, seeing a resemblance to a case he and his men have been attempting to track down. opening it, he discovers it contains a cache of drugs. when he interrogates johnny, he gets the whole story, and is about to arrest johnny, when nifty arrives to retrieve the suitcase. johnny tricks nifty into confessing, and then subdues him, when he is resisting the efforts of newton and his deputies to arrest him. the film ends with johnny being rewarded for the way he handled himself by becoming newton  assistant.\n",
            "__label__not_drama the film is divided into twenty-six individual chapters, each helmed by a different director assigned a letter of the alphabet. the directors were then given free rein in choosing a word to create a story involving death. the varieties of death range from accidents to murders.[6] a contest was held for the role of the twenty-sixth director. the winner was uk-based director lee hardcastle, who submitted the claymation short for t.[7]\n",
            "__label__drama police inspector jai (govinda) lives a middle-class life with his mother (aruna irani) and physically and mentally challenged brother sunder (govinda in double role). one day he arrests a man named pandey, and after questioning him, finds out that the person behind this crime was a man named guman singh (raza murad). he gets on the trail of guman singh, arrests him, and keeps him in a cell. then a series of explosions creates havoc in the city, with the assailants demanding the unconditional release of guman. with the police having no clue as to the assailants whereabouts or where they are going to strike next, they release guman. they threaten jai with dire consequences, forcing jai to resign from his job. hoping that he and his family are safe, jai starts to re-build his life, along with his sweetheart, sharmila (divya bharti). then tragedy strikes, his mother is killed in an accident, and his brother is abducted by jagtap singh (kiran kumar) and guman, who demand that he return a bag containing their valuables. jai is willing to do anything to get back his brother, but how can negotiate when he does not even have the bag in his possession?\n",
            "\n",
            "(8604, 33)\n",
            "__label__not_drama music publishers wilmer popday and alfred bandle find themselves unwittingly embroiled in an espionage adventure, when they go away on manoeuvres with the home guard.\n",
            "__label__not_drama easwaran (arjun sarja) is upright and honest youth, who runs a local cable channel in kumbakonam. he is known to fight for causes of the society and the common man. he enters into fisticuffs with local mla (sai kumar) after he exposes his corrupt and greedy ways through his cable tv channel. fearing trouble, his mother takes him to a saint in thiruvannamalai. the swami resembles easwaran. a sequence of events forces them to swap places. the soft-spoken swami tries to sort all issues through non-violent means (gandhian philosophy). halfway through karunas dies in the hand of (vidharth) and the corrupt mla. in the climax easwaran kills the mla.\n",
            "__label__drama two detectives, played by john elliot and harold goodwin, board a train in pursuit of a gangster, who is played by neil hamilton. hamilton is travelling to new york to work for edward g. robinson, a notorious gangster who owns a nightclub. hamilton jumps off the train near a bridge crossing and since no trace of him can be found the police believe him to be dead. goodwin assumes hamilton  identity and joins robinson  gang but is quickly discovered to be an imposter and shot. determined to find out who killed her brother, alice white poses as hamilton  widow and attempts to get a job at robinson  nightclub. hamilton eventually shows up and white is almost exposed as an imposter. hamilton, however, is eventually persuaded by white and he promises not to tell robinson the truth. white and hamilton fall in love. during a hold-up, white protects hamilton by shooting at a cop in the back. hamilton begins to think of reforming due to white  influence. white eventually gets robinson to confess that he shot her brother by pretending to be interested in him. she leaves the phone off the hook while the police listen in on his confession. when the police show up, robinson realizes what white has done and uses white as a shield against the police but hamilton manages to save white and robinson is forced to surrender to the police.\n",
            "__label__not_drama mark bannister, a stockbroker, and his wife jessie, a tv reporter/anchorwoman, are a successful yuppie couple with an idyllic california life, aside from a toilet with a faulty handle. it is interrupted when both of them find out that mark  timid cousin, fred, and his pregnant wife, bernice, are flying in from new jersey to visit that same day. the first days are slightly chaotic - particularly because of bernice  cat - yet bearable. mark gives them 300 dollars to spend in the city and grant the couple some alone time. they are interrupted when jessie  gold digger sister claudia arrives demanding hospitality. she had a fight with her rich middle eastern husband kaddir, whom she divorces after he cancels her credit cards. fred and bernice  visit, meant to last only five days, is extended when bernice falls on the way to the car. she is instructed by her doctor, dr. penix, not to leave until the baby is born. at a local bar, mark motivates fred to quit being bernice  pet, but fred takes the message too far and leaves \"to find himself.\" meanwhile, mark  next door neighbor and carpenter dale builds a machine for bernice to be comfortable in bed all day. having to be waited on hand-and-foot, bernice becomes increasingly irritating, even demanding constant burials for her cat who  would ies' multiple times (but comes back each time). claudia  son jonathan also comes to live with them. jessie tries getting dale to seduce claudia, but things take a turn for the worse when mark and jessie inadvertently burn down dale  villa, which can not  be rebuilt for three months. as a result, dale, his delinquent son c.k. and his phone-obsessed daughter katy move in; mark and jessie are forced to accept them to avoid an arson lawsuit. mark helps jonathan get a job as a mail room clerk. as the days pass, chaos persists for the couple with them essentially being forced out of their own home. mark  friend and colleague wes finds them outside living like hippies, after mark fails to show up for work. wes motivates mark to resist a little longer, especially as mark is on the verge of closing a successful deal for his boss, bob grindle. at work, mark gets a box from bogota containing cocaine - sent to him but requested by jonathan. grindle tells mark to sell a set of stocks due to a scandal, but mark forgets to before leaving work with the cocaine. fred comes back, having grown a mustache and now owning a baby elephant. police arrive at the house and find the cat overdosing on cocaine; they subsequently destroy mark  house during their drug bust, which gets televised by jessie  tv station. the stress for jessie manifests into an expletive-filled mental breakdown on live tv. pushed to their limit and facing apparent ruin and imminent charges, mark and jesse decide to abandon the house to the guests and leave town to start new lives. the next day, mark and jessie return to salvage what they can find. they hear a recording from dr. penix stating bernice was never pregnant to begin with, breaking what little sanity they had left. an enraged jessie catapults bernice from her bed to the backyard and forces her to confess to knowing she was not  pregnant. she then ruins her sister  expensive clothes to force claudia out while mark terrorizes dale with an electric saw, making him leave with his two children. lastly, jessie puts fireworks on jonathan  cocaine bag, which explodes as he tries to flee in dale  (loaner) lotus. mark and jessie then threaten to torch their own house in order to keep away their parasitic visitors for good. the police arrive and apologize, stating that their only evidence - bernice  cat - disappeared, and that they will pay for all damages incurred. grindle arrives and, believing mark had meant to keep the stocks, declares that he amassed a small fortune when the scandal was found to be false. he offers mark a portion of the profit and a promotion. claudia takes the opportunity to seduce grindle, and dale starts flirting with one of the police officers, much to c.k  chagrin. the cat returns, but has changed sides, preferring to remain with mark and jessie. bernice and fred depart, with fred taking much more control than before. jessie and mark try to get cozy before mark, as a last touch, smashes the ever-malfunctioning toilet with a sledgehammer. in the epilogue it states that mark and jessie - who earned a tv show of her own due to her angry on-air outburst - move to a 3 bedroom house in malibu and live happily ever after... until their parents come to visit.\n",
            "__label__not_drama sam clayton is too good for his own good. a sermon by rev. daniels persuades him to help others in every way he can, including his wife lu  good-for-nothing brother, claude, who  been living with them rent-free for six months, and their neighbors the butlers, who need a car for a vacation when theirs breaks down. sam is a department store manager whose boss, h.c. borden, wants him to sell more and socialize less. sam  a shoulder for clerk shirley mae to cry on when her romance breaks up. he also gives a $5,000 loan, without his wife  knowledge, to mr. and mrs. adams, who need it to save a gas station they bought. lu is fed up with sam  generosity, particularly when he ends up paying for the butlers' car repairs, then letting the mechanic come over for home-cooked meals. the last straw for lu comes when she learns they have a chance to put a down payment on a new house, except sam has lent their nest egg to the adamses. sam is unhappy, too. he  annoyed with the butlers, who have crashed his car and can not  pay to fix it. he also wants claude to move out. shirley mae  troubles come to his door after she takes too many pills. sam even gets robbed, and the bank refuses to make him a loan. he is at his wit  end when the adamses surprise him with a check for $6,000. they also give claude a job, and shirley mae suddenly thinks she and claude could have a future together. sam and lu feel better about life, particularly when borden surprises him with a promotion at work.\n",
            "__label__not_drama a mysterious black freighter sails through the night, apparently deserted. detecting a cruise ship close by, the ship alters course as disembodied voices announce in german, \"battle stations! enemy in sight!\" aboard the cruise ship, the prickly captain ashland is making his final voyage, attended by his replacement, captain trevor marshall, who has brought along his family. the freighter heads right for them, blasting its horn. despite ashland  best efforts, the charging freighter collides with the cruise ship, sinking it. (some of the sinking scenes were taken from the 1960 film the last voyage and darkened to match the nightly effect. several were also taken from the 1972 disaster film the poseidon adventure.) the next morning, a handful of survivors—marshall, his wife margaret (howes), and their children robin and ben; a young officer named nick and his love interest lori; the ship  comic jackie; and a passenger, mrs. morgan—are adrift on a large piece of wreckage. ashland surfaces nearby and he  brought aboard, barely conscious. later, the survivors come upon the black freighter, unaware it  the ship that attacked them. finding a boarding ladder slung from the stern, they climb aboard, but not before the ladder plunges into the sea as the officers try to climb it with the injured ashland. when all are finally aboard, jackie tries to rally the survivors with humor, but a cable seizes him by the ankle, and he is swung outboard by one of the ship  cranes, which lowers him into the water before cutting him loose, to be swept astern and lost. shocked, the survivors explore the corridors of the empty, echoing vessel, finding only cobwebs and 1930s memorabilia. hatches open and close by themselves and lights go on and off while a swinging block knocks out nick, who is exploring above deck. meanwhile, a delirious ashland hears a mysterious voice speaking to him in german, telling him \"this ship has been waiting for you...it is your new ship....your chance has come!\" the others finally set up in a dusty bunk room, and they separate to retrieve supplies and the injured captain. mrs. morgan finds a gramophone and a movie projector that suddenly turn on by themselves. while watching the film (1936  everything is rhythm) and eating a piece of hard candy from one of the ship  cupboards, she becomes grotesquely deformed. terrified, she stumbles back to the bunk room, where a possessed ashland strangles her. now awake, and apparently possessed by the ship  dead captain, ashland dons an officer  uniform from the kriegsmarine and announces that he is the captain. marshall and nick make a chilling discovery: the ship was once a kriegsmarine prison ship, and the ghosts of its inmates and crew are still aboard. upon visiting the chart room, they see that the map of the ship  course shows that it just travels round and round the atlantic in huge circles. later on, a large cabin is discovered which appears to be a nazi shrine, containing a variety of third reich memorabilia and an ante-room screened off by a pair of scarlet curtains, which part by themselves to reveal a large portrait of adolf hitler. they both decide to escape, but are thwarted when the ship  lifeboats lower into the sea by themselves and drift away. despairing, the survivors try to get some rest but are further taunted by ashland, who now prowls the ship  passages. lori goes into shock when her shower water turns to blood; she  then tossed overboard by ashland. marshall and nick are attacked by the piercing whine of the ship  electronics as the projector now begins showing old newsreel footage of adolf hitler. nick lunges at ashland, but instead plunges into a net holding skeletal remains, where ashland drowns him. marshall manages to stab a gloating ashland, apparently killing him and stopping the ship. searching below, marshall finds a life raft in a freezer full of the frozen bodies of downed raf airmen and soviet sailors, but as the children are jumping overboard, margaret is captured by a resurrected ashland and is trapped in a chain locker. marshall is knocked out by ashland, but awakens in time to find margaret, who has escaped from the locker. captain ashland attempts to shoot the escaping marshall family with a mauser rifle. meanwhile, the spirits of the crew detect another cruise liner and begin to give chase, ignoring ashland, who wants it to run down the marshalls' raft instead. trying to re-take control of the ship, ashland storms into the engine room and shoots at the machinery in vain, but falls into the steering gear and is crushed to death. his screams of agony echo throughout the ship, joining those of its earlier victims. above, the marshalls rejoice as the freighter turns and sails away. after drifting for some time, they are spotted by a search helicopter and rescued. the death ship is shown afterwards steaming along at full speed. the ghosts of the crew once again announcing \"enemy in sight!\" in german. it heads for another passenger ship, and the sounds of the collision are accompanied by the triumphant blasting of its horn.\n",
            "__label__drama ernie mott (cary grant) is a restless, irresponsible, wandering cockney with a good musical ear. on armistice day, ernie visits the tomb of the unknown warrior in westminster abbey, which memorializes those who died in world war i, including his father. ernie wants a better life but does not want to settle down or work for it. when he returns home, ma mott (ethel barrymore) asks why he has returned after so long, and she gives him an ultimatum that he must stay home now or leave forever. he informs her that he will then be leaving next morning, and goes out to get a drink. he meets fellow musician aggie hunter (jane wyatt) outside the bar, but instead prefers the company of a gangster  fickle former wife, ada brantline (june duprez). however, when ernie becomes smitten with ada she rejects his offer of a date when he tells her he will be leaving town tomorrow. the next morning, ma mott tells her pawnbroker friend, ike weber (konstantin shayne), that she has cancer. ma and ernie get into another fight, but after he storms out, ike shares with him that his mother needs him in her battle with cancer. ernie returns and says that he will stay with her at home and help her run her shop. a month passes, and ernie continues to pursue ada. however, when gangster jim mordinoy (george coulouris) informs him that she  still his wife, ernie does not  believe ada when she says that  a lie and he cuts her off socially. ernie begins to notice the poverty surrounding him in london, and chooses to accept mordinoy  offer to join his activities, even against ada  pleas. ernie begins to steal cars, and he is involved in a police chase until his car collides with a truck and explodes into flames. ada implores him to run away with her, but he does not want to leave his dying mother. when ernie is eventually bailed out of jail by ike, he finds out that after the police find ernie  platinum cigarette case—his birthday gift from ma—was stolen, the police arrest her and put her in prison. she begs for forgiveness for shaming the family, and dies in prison hospital. when he returns home, he learns via a letter from ada that she decided to stay with mordinoy because that would make her life easier. ernie is crushed, and walks along the street until he gets to aggie  door and walks in.\n",
            "__label__not_drama the plot and subplots center on the movie  leading man, paul harris, a divorced high school teacher and basketball coach and his interactions during a killer rat infestation with a health department inspector, kelly leonard, a high school cheerleader, trudy white, his friend a professor amd rat expert, dr. louis spenser, and his students. giant rats the size of small dogs living in mountains of grain full of steroids are rendered homeless when kelly orders it to be burned down. the rats migrate to a suburban home occupied by unsupervised high school students. the rats begin to kill a toddler left unattended in a high chair. henry younger, a senior citizen is attacked from rats, walking the snowy streets alone late at night. george foskins, a health department field inspector, is destined to become the next victim. inspecting the bowels of the city  sewer system, he encounters a pack of rats. george commences with 'the running of the rats' in the sewer, followed by his demise. paul telephones his friend, louis, who instantly concludes that the steroid feed had spawned a new breed of  uper-rat' that had migrated into the sewers in search of food. upon hearing this information, the health inspector immediately orders the fumigation of the entire city sewer system, which is immediately and efficiently carried out with no apparent effect. the futility of this action is confirmed when the rat expert himself is attacked and killed. the rats then move on to a bowling alley and a movie theater and make their first brazen mass attack on the unsuspecting public. the rats select the viewers of a bruce lee movie, resulting in numerous deaths including trudy, and a scene of fleeing film patrons. meanwhile, the city  mayor, mayor rizetti, prepares to make an inaugural run of a new subway section—straight into a hungry pack of rats. while escaping the rats, and sacrificing the other delegates, the mayor rizetti stows away on the empty subway train. paul attempts to stop the festivities. he is forced to assault a cop and take his revolver. paul proceeds down the tunnel and finds a disabled subway train with passengers just emerging from the cars. paul finds kelly and his son just as the rats attack the passengers and mayor rizetti is killed by rats off screen. the three are able to escape down the tunnel and find refuge in a fenced-in maintenance area which is the rats nest. fortunately, they discover cutting torches and drums of flammable liquids and soon, the three escape from the tunnel as the rats are killed during a flammable explosion behind him. after the three survivors re-board the subway train to reach safety, the train reaches the platform and the party-goers for the new subway section approach the train and to shock, it  revealed that the three had boarded the same train as the mayor rizetti did, which shows a small amount of surviving rats eating the body of the mayor as the final scene shows a bloody rat hissing at the train window.\n",
            "__label__drama jasmine francis (cate blanchett) disembarks in san francisco after a flight from new york city. she takes a taxi to her sister ginger  (sally hawkins) apartment, where ginger is dismayed to learn that jasmine traveled first class despite claiming to be broke. jasmine has recently suffered a nervous breakdown and, having incurred heavy debts, has been forced to seek refuge with her sister. a series of flashbacks reveal that jasmine  husband, money manager hal francis (alec baldwin), was arrested for defrauding his clients. ginger and her husband, augie (andrew dice clay), were among hal  victims; he swindled them out of $200,000 of lottery winnings that augie had wanted to start a business with, and their marriage fell apart. hal committed suicide in prison after being publicly disgraced. jasmine  step-son danny (alden ehrenreich) dropped out of harvard and cut himself off completely from jasmine, believing her to be complicit in hal  crimes. after hal  death, jasmine began drinking heavily and abusing anti-anxiety medication. she also developed a habit of talking to herself about her past. ginger is now dating a mechanic called chili (bobby cannavale), whom jasmine detests for his low breeding and coarse manners. she considers becoming an interior designer because of her \"great taste\" and past experience in decorating her homes. she wants to take online courses, but, having no computer skills, she decides to take a class in computers to gain basic proficiency. with no income, she grudgingly takes a job as a receptionist with a dentist (michael stuhlbarg), who pesters her with unwanted sexual advances. when he tries to assault her, she fights him off and quits. jasmine  situation improves when she meets a wealthy widower, dwight (peter sarsgaard), at a party. dwight is a diplomat aspiring to become a congressman. she poses as an interior designer, telling him that her husband was a surgeon who died of a heart attack. dwight is impressed by her stylishness and invites her to decorate his new home. ginger begins a romance with al (louis c.k.), whom she met at the same party. she breaks up with chili, who begs her not to leave him. eventually, she finds out that al is married and gets back with chili, realizing she has been influenced by jasmine. jasmine develops a romance with dwight, and he is about to buy her an engagement ring when they bump into augie outside the jewelry store. augie rails at jasmine about what hal did to ginger and him. augie also reveals that danny is living nearby in oakland and is now married. dwight is outraged that jasmine lied to him and calls off the engagement. jasmine goes to oakland and finds danny, who tells jasmine he never wants to see her again because of what she did to his father. it is revealed that jasmine finally learned of hal  many affairs and confronted him. when he told her he wanted to divorce her to be with a 19-year-old au pair, jasmine, in a moment of blind rage, called the fbi to inform the authorities of hal  fraudulent business dealings. this led to his arrest. jasmine returns to her sister  apartment and finds ginger back with chili, who is moving in now. jasmine and chili needle each other, and jasmine is furious when ginger takes his side. jasmine lies to ginger claiming that she is going to marry dwight and leaves. jasmine takes a seat on a park bench and starts muttering to herself.\n",
            "__label__not_drama after their admission in college, hunny, choocha and lali enjoy their life in delhi. zafar keeps up with his business. bholi punjaban is released after 12 months in prison. she sends her troops to cease the fukras. the boys are brought up at her place along with pandits. she asks them about their plan to fool her. as the boys convince her, she gives them one chance and invests some money to open a lottery shop. people are given numbers to which they invest some money. choocha begins to distribute brochures around the city and more people invest. meanwhile, minister babulal bhatia argues with the cm over the next election and bets him to win. police around the city conduct raids on drugs and fake lottery shops. after finding out the fukras' shop, babulal uses his power to change the lottery number and everyone who invested money are angered. the people gather around to beat them but they escape. they wake up at a construction area and spotted by pandit. it is here that choocha comes to know he can see the future. he sees a tiger in his dream which later attacks them. the group is later caught by bholi who is angered due to their foolishness, and orders to kill them. but choocha  ability impresses her and she forgives them. the next morning, bholi narrates them to find a treasury which they agree if she releases them. babulal fears that people would get back money so he invites the boys at his residence. pandit is sent in disguise to keep a check. during a diner, the boys are forced to take an oath to help babulal with their welfare in return. the next day, the boys take the blame instead of babulal who misused people  money while bholi goes to the cm to hand some factory papers related to babulal and after the boys leave, police arrive and capture babulal. the boys return to their houses and but feel dejected by their loved ones. they decide to scheme up to earn more money. the next morning, at pandit  place, choocha is forced to see a dream where lali holds a tiger cub. meanwhile, babulal comes to know about bholi  plan and ambushes her place. but he forgives her murder on the pretext to find a treasury. to do so, bholi calls hunny for it who requests a tiger cub which she sold. the boys and bholi  guards returns at the park where they are joined by priya and neetu. they dig a hole and enter a cave where they are spotted by the cub  mother. however, after escaping, they lead to a factory with huge amounts of illegal goods. they find out the products to be worth $400 million. babulal arrives at the place only to find out that the warehouse actually constains babulal  trade products. he is angered and orders to banish them but police arrive on the scene. in a flashback, while estimating worth, zafar called the police knowing babulal bought this from china. choocha wills to propose bholi to which she replies him with a kiss. the police drive away from the scene. later, the fukras inaugurate an electronics shop with the products they found in the warehouse.\n"
          ],
          "name": "stdout"
        }
      ]
    },
    {
      "metadata": {
        "id": "tgIneGqWMiBy",
        "colab_type": "code",
        "colab": {
          "base_uri": "https://localhost:8080/",
          "height": 85
        },
        "outputId": "dc994286-f428-4e19-9864-d84ca701514a"
      },
      "cell_type": "code",
      "source": [
        "!./fasttext supervised -input train.txt -output model"
      ],
      "execution_count": 231,
      "outputs": [
        {
          "output_type": "stream",
          "text": [
            "Read 7M words\n",
            "Number of words:  256034\n",
            "Number of labels: 2\n",
            "Progress: 100.0% words/sec/thread:  484620 lr:  0.000000 loss:  0.581957 ETA:   0h 0m\n"
          ],
          "name": "stdout"
        }
      ]
    },
    {
      "metadata": {
        "id": "WSa3xLspUhSd",
        "colab_type": "code",
        "colab": {
          "base_uri": "https://localhost:8080/",
          "height": 68
        },
        "outputId": "090ca3d4-f281-440b-cca4-06f35b64673a"
      },
      "cell_type": "code",
      "source": [
        "!./fasttext test model.bin test.txt"
      ],
      "execution_count": 232,
      "outputs": [
        {
          "output_type": "stream",
          "text": [
            "N\t8604\n",
            "P@1\t0.705\n",
            "R@1\t0.705\n"
          ],
          "name": "stdout"
        }
      ]
    },
    {
      "metadata": {
        "id": "iFE2Ozp-WapB",
        "colab_type": "code",
        "colab": {}
      },
      "cell_type": "code",
      "source": [
        ""
      ],
      "execution_count": 0,
      "outputs": []
    }
  ]
}